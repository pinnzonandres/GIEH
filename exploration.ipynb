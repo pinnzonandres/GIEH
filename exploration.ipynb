{
 "cells": [
  {
   "cell_type": "code",
   "execution_count": 1,
   "metadata": {},
   "outputs": [],
   "source": [
    "import pandas as pd\n",
    "import numpy as np\n",
    "import matplotlib.pyplot as plt\n",
    "import seaborn as sns\n",
    "from create_data.read_data import process_data"
   ]
  },
  {
   "cell_type": "code",
   "execution_count": 2,
   "metadata": {},
   "outputs": [],
   "source": [
    "import pandas as pd\n",
    "from create_data.read_data import process_data\n",
    "\n",
    "def run_process_data():\n",
    "    meses = ['01_Enero','02_Febrero','03_Marzo','04_Abril','05_Mayo','06_Junio','07_Julio','08_Agosto','09_Septiembre']\n",
    "    results = []\n",
    "    for month_str in meses:\n",
    "        result = process_data(month_str)\n",
    "        results.append(result)\n",
    "    concatenated_result = pd.concat(results, ignore_index=True)\n",
    "    return concatenated_result\n"
   ]
  },
  {
   "cell_type": "code",
   "execution_count": 3,
   "metadata": {},
   "outputs": [],
   "source": [
    "data = run_process_data()"
   ]
  },
  {
   "cell_type": "code",
   "execution_count": 4,
   "metadata": {},
   "outputs": [
    {
     "data": {
      "text/html": [
       "<div>\n",
       "<style scoped>\n",
       "    .dataframe tbody tr th:only-of-type {\n",
       "        vertical-align: middle;\n",
       "    }\n",
       "\n",
       "    .dataframe tbody tr th {\n",
       "        vertical-align: top;\n",
       "    }\n",
       "\n",
       "    .dataframe thead th {\n",
       "        text-align: right;\n",
       "    }\n",
       "</style>\n",
       "<table border=\"1\" class=\"dataframe\">\n",
       "  <thead>\n",
       "    <tr style=\"text-align: right;\">\n",
       "      <th></th>\n",
       "      <th>DIRECTORIO</th>\n",
       "      <th>SECUENCIA_P</th>\n",
       "      <th>ORDEN</th>\n",
       "      <th>PT</th>\n",
       "      <th>POB_MAY18</th>\n",
       "      <th>P3271</th>\n",
       "      <th>P6040</th>\n",
       "      <th>P6050</th>\n",
       "      <th>P6083</th>\n",
       "      <th>P6081</th>\n",
       "      <th>...</th>\n",
       "      <th>P5222S7</th>\n",
       "      <th>P5222S8</th>\n",
       "      <th>P5222S8A1</th>\n",
       "      <th>P5222S9</th>\n",
       "      <th>P5222S10</th>\n",
       "      <th>P6008</th>\n",
       "      <th>DPTO</th>\n",
       "      <th>AREA</th>\n",
       "      <th>CLASE</th>\n",
       "      <th>Occupation_Status</th>\n",
       "    </tr>\n",
       "  </thead>\n",
       "  <tbody>\n",
       "    <tr>\n",
       "      <th>0</th>\n",
       "      <td>7309060</td>\n",
       "      <td>1</td>\n",
       "      <td>2</td>\n",
       "      <td>1</td>\n",
       "      <td>1.0</td>\n",
       "      <td>1</td>\n",
       "      <td>27</td>\n",
       "      <td>2</td>\n",
       "      <td>2</td>\n",
       "      <td>2</td>\n",
       "      <td>...</td>\n",
       "      <td>NaN</td>\n",
       "      <td>NaN</td>\n",
       "      <td>NaN</td>\n",
       "      <td>NaN</td>\n",
       "      <td>NaN</td>\n",
       "      <td>3</td>\n",
       "      <td>25</td>\n",
       "      <td>NaN</td>\n",
       "      <td>1</td>\n",
       "      <td>0</td>\n",
       "    </tr>\n",
       "    <tr>\n",
       "      <th>1</th>\n",
       "      <td>7309064</td>\n",
       "      <td>1</td>\n",
       "      <td>3</td>\n",
       "      <td>1</td>\n",
       "      <td>1.0</td>\n",
       "      <td>1</td>\n",
       "      <td>18</td>\n",
       "      <td>3</td>\n",
       "      <td>1</td>\n",
       "      <td>2</td>\n",
       "      <td>...</td>\n",
       "      <td>NaN</td>\n",
       "      <td>NaN</td>\n",
       "      <td>NaN</td>\n",
       "      <td>NaN</td>\n",
       "      <td>NaN</td>\n",
       "      <td>5</td>\n",
       "      <td>66</td>\n",
       "      <td>NaN</td>\n",
       "      <td>2</td>\n",
       "      <td>0</td>\n",
       "    </tr>\n",
       "    <tr>\n",
       "      <th>2</th>\n",
       "      <td>7309067</td>\n",
       "      <td>1</td>\n",
       "      <td>2</td>\n",
       "      <td>1</td>\n",
       "      <td>1.0</td>\n",
       "      <td>2</td>\n",
       "      <td>25</td>\n",
       "      <td>3</td>\n",
       "      <td>2</td>\n",
       "      <td>1</td>\n",
       "      <td>...</td>\n",
       "      <td>NaN</td>\n",
       "      <td>NaN</td>\n",
       "      <td>NaN</td>\n",
       "      <td>NaN</td>\n",
       "      <td>NaN</td>\n",
       "      <td>2</td>\n",
       "      <td>66</td>\n",
       "      <td>NaN</td>\n",
       "      <td>2</td>\n",
       "      <td>0</td>\n",
       "    </tr>\n",
       "    <tr>\n",
       "      <th>3</th>\n",
       "      <td>7309071</td>\n",
       "      <td>1</td>\n",
       "      <td>2</td>\n",
       "      <td>1</td>\n",
       "      <td>1.0</td>\n",
       "      <td>2</td>\n",
       "      <td>28</td>\n",
       "      <td>2</td>\n",
       "      <td>2</td>\n",
       "      <td>2</td>\n",
       "      <td>...</td>\n",
       "      <td>NaN</td>\n",
       "      <td>NaN</td>\n",
       "      <td>NaN</td>\n",
       "      <td>NaN</td>\n",
       "      <td>NaN</td>\n",
       "      <td>3</td>\n",
       "      <td>66</td>\n",
       "      <td>NaN</td>\n",
       "      <td>2</td>\n",
       "      <td>0</td>\n",
       "    </tr>\n",
       "    <tr>\n",
       "      <th>4</th>\n",
       "      <td>7309073</td>\n",
       "      <td>1</td>\n",
       "      <td>3</td>\n",
       "      <td>1</td>\n",
       "      <td>1.0</td>\n",
       "      <td>2</td>\n",
       "      <td>27</td>\n",
       "      <td>3</td>\n",
       "      <td>1</td>\n",
       "      <td>2</td>\n",
       "      <td>...</td>\n",
       "      <td>NaN</td>\n",
       "      <td>NaN</td>\n",
       "      <td>NaN</td>\n",
       "      <td>NaN</td>\n",
       "      <td>NaN</td>\n",
       "      <td>6</td>\n",
       "      <td>66</td>\n",
       "      <td>NaN</td>\n",
       "      <td>2</td>\n",
       "      <td>0</td>\n",
       "    </tr>\n",
       "  </tbody>\n",
       "</table>\n",
       "<p>5 rows × 48 columns</p>\n",
       "</div>"
      ],
      "text/plain": [
       "   DIRECTORIO  SECUENCIA_P  ORDEN  PT  POB_MAY18  P3271  P6040  P6050  P6083  \\\n",
       "0     7309060            1      2   1        1.0      1     27      2      2   \n",
       "1     7309064            1      3   1        1.0      1     18      3      1   \n",
       "2     7309067            1      2   1        1.0      2     25      3      2   \n",
       "3     7309071            1      2   1        1.0      2     28      2      2   \n",
       "4     7309073            1      3   1        1.0      2     27      3      1   \n",
       "\n",
       "   P6081  ...  P5222S7  P5222S8  P5222S8A1  P5222S9  P5222S10  P6008  DPTO  \\\n",
       "0      2  ...      NaN      NaN        NaN      NaN       NaN      3    25   \n",
       "1      2  ...      NaN      NaN        NaN      NaN       NaN      5    66   \n",
       "2      1  ...      NaN      NaN        NaN      NaN       NaN      2    66   \n",
       "3      2  ...      NaN      NaN        NaN      NaN       NaN      3    66   \n",
       "4      2  ...      NaN      NaN        NaN      NaN       NaN      6    66   \n",
       "\n",
       "   AREA  CLASE  Occupation_Status  \n",
       "0   NaN      1                  0  \n",
       "1   NaN      2                  0  \n",
       "2   NaN      2                  0  \n",
       "3   NaN      2                  0  \n",
       "4   NaN      2                  0  \n",
       "\n",
       "[5 rows x 48 columns]"
      ]
     },
     "execution_count": 4,
     "metadata": {},
     "output_type": "execute_result"
    }
   ],
   "source": [
    "data.head()"
   ]
  },
  {
   "cell_type": "code",
   "execution_count": 5,
   "metadata": {},
   "outputs": [
    {
     "data": {
      "text/plain": [
       "(114113, 48)"
      ]
     },
     "execution_count": 5,
     "metadata": {},
     "output_type": "execute_result"
    }
   ],
   "source": [
    "data.shape"
   ]
  },
  {
   "cell_type": "code",
   "execution_count": 6,
   "metadata": {},
   "outputs": [
    {
     "data": {
      "text/plain": [
       "Occupation_Status\n",
       "1    77763\n",
       "0    36350\n",
       "Name: count, dtype: int64"
      ]
     },
     "execution_count": 6,
     "metadata": {},
     "output_type": "execute_result"
    }
   ],
   "source": [
    "data['Occupation_Status'].value_counts()"
   ]
  },
  {
   "cell_type": "code",
   "execution_count": 7,
   "metadata": {},
   "outputs": [],
   "source": [
    "def replace_values(df, column, mapping):\n",
    "    df[column] = df[column].replace(mapping)\n",
    "    return df"
   ]
  },
  {
   "cell_type": "code",
   "execution_count": 8,
   "metadata": {},
   "outputs": [],
   "source": [
    "## Cambios de valor codificado\n",
    "cambios ={\n",
    "'P3271': {1: 'Masculino', 2: 'Femenino'},\n",
    "'P6050': {1: 'Jefe del Hogar', 2: 'Pareja, esposo(a), conyugue, compañero(a)',\n",
    "                 3: 'Hijo(a), hijastro(a)', 4: 'Padre o madre',5:'Suegro(a)',\n",
    "                 6: 'Hermano(a), hermanastro(a)', 7: 'Yerno o nuera', 8: 'Nieto', 9: 'Otro pariente',\n",
    "                 10: 'Empleado(a) del servicio doméstico y sus parientes',\n",
    "                 11: 'Pensionista', 12: 'Trabajador', 13: 'Otro no pariente'},\n",
    "'P6083': {1: 'Si', 2: 'No', 3: 'Fallecida'},\n",
    "'P6081': {1: 'Si', 2: 'No', 3: 'Fallecido'},\n",
    "'P2057': {1: 'Si', 2: 'No', 9: 'No informa'},\n",
    "'P2059': {1: 'Si', 2: 'No', 9: 'No informa'},\n",
    "'P2061': {1: 'Si', 2: 'No', 9: 'No informa'},\n",
    "'P6080': {1: 'Indígena', 2: 'Gitano (ROM)', 3: 'Raizal del Archipiélago',\n",
    "                  4: 'Palenquero', 5: 'Negro, mulato (afrodescendiente)',\n",
    "                  6: 'Ninguno de los anteriores'},\n",
    "'P6070': {1: \"No esta casado(a) y vive en pareja  hace  menos de dos años\",\n",
    "                  2: \"No esta  casado (a)  y vive en pareja   hace dos años  o más\",\n",
    "                  3: \"Esta casado (a)\",\n",
    "                  4: \"Esta separado (a) o divorciado (a)\",\n",
    "                  5: \"Esta viudo (a)\",\n",
    "                  6: \"Esta soltero (a)\"},\n",
    "'P6160': {1: \"Si\", 2: 'No'},\n",
    "'P6170': {1: \"Si\", 2: 'No'},\n",
    "'P3042': {1: 'Ninguno',\n",
    "          2: 'Preescolar ',\n",
    "          3: 'Básica primaria (1o - 5o)',\n",
    "          4: 'Básica secundaria (6o - 9o)',\n",
    "          5: 'Media académica (Bachillerato clásico)',\n",
    "          6: 'Media técnica (Bachillerato técnico)',\n",
    "          7: 'Normalista',\n",
    "          8: 'Técnica profesional',\n",
    "          9: 'Tecnológica ',\n",
    "          10: 'Universitaria',\n",
    "          11: 'Especialización ',\n",
    "          12: 'Maestría ',\n",
    "          13: 'Doctorado ',\n",
    "          99: 'No sabe, no informa'},\n",
    "'P3039': {1: 'Hombre',\n",
    "          2: 'Mujer',\n",
    "          3: 'Hombre trans',\n",
    "          4: 'Mujer trans',\n",
    "          5: 'Otro'},\n",
    "'P4000':{1: 'Casa',\n",
    "         2: 'Apartamento',\n",
    "         3: 'Cuarto (s) en inquilinato',\n",
    "         4: 'Cuarto (s) en otro  tipo de estructura',\n",
    "         5: 'Vivienda indígena',\n",
    "         6: 'Otra vivienda (carpa,  vagón, embarcación, cueva, refugio natural, etc.)'},\n",
    "'P4030S1': {1: \"Si\", 2: 'No'},\n",
    "'P4030S2': {1: \"Si\", 2: 'No'},\n",
    "'P4030S3': {1: \"Si\", 2: 'No'},\n",
    "'P4030S4': {1: \"Si\", 2: 'No'},\n",
    "'P4030S5': {1: \"Si\", 2: 'No'},\n",
    "'DPTO': {5: 'ANTIOQUIA',\n",
    "         8: 'ATLANTICO',\n",
    "         11: 'BOGOTA',\n",
    "         13: 'BOLIVAR',\n",
    "         15: 'BOYACA',\n",
    "         17: 'CALDAS',\n",
    "         18: 'CAQUETA',\n",
    "         19: 'CAUCA',\n",
    "         20: 'CESAR',\n",
    "         23: 'CORDOBA',\n",
    "         25: 'CUNDINAMARCA',\n",
    "         27: 'CHOCO',\n",
    "         41: 'HUILA',\n",
    "         44: 'LA GUAJIRA',\n",
    "         47: 'MAGDALENA',\n",
    "         50: 'META',\n",
    "         52: 'NARIÑO',\n",
    "         54: 'NORTE DE SANTANDER',\n",
    "         63: 'QUINDIO',\n",
    "         66: 'RISALRALDA',\n",
    "         68: 'SANTANDER',\n",
    "         70: 'SUCRE',\n",
    "         73: 'TOLIMA',\n",
    "         76: 'VALLE',\n",
    "         81: 'ARAUCA',\n",
    "         85: 'CASANARE',\n",
    "         86: 'PUTUMAYO',\n",
    "         88: 'SAN ANDRES',\n",
    "         91: 'AMAZONAS',\n",
    "         94: 'GUAINIA',\n",
    "         95: 'GUAVIARE',\n",
    "         97: 'VAUPES',\n",
    "         99: 'VICHADA'},\n",
    "'CLASE': {1: 'Cabecera', 2: 'Resto'},\n",
    "'P4030S1A1': {0: 'Conexión Pirata',\n",
    "              1: 'Bajo - Bajo',\n",
    "              2: 'Bajo',\n",
    "              3: 'Medio - Bajo',\n",
    "              4: 'Medio',\n",
    "              5: 'Medio - Alto',\n",
    "              6: 'Alto',\n",
    "              9: 'No sabe o cuenta con planta eléctrica'},\n",
    "}"
   ]
  },
  {
   "cell_type": "code",
   "execution_count": 9,
   "metadata": {},
   "outputs": [],
   "source": [
    "for col in cambios.keys():\n",
    "    data = replace_values(data, col, cambios[col])"
   ]
  },
  {
   "cell_type": "code",
   "execution_count": 10,
   "metadata": {},
   "outputs": [],
   "source": [
    "data.columns = ['DIRECTORIO','SECUENCIA_P','ORDEN','PT','POB_MAY18','SEXO_PERSONA','EDAD','PARENTESCO','MADRE_RESIDE_HOGAR','PADRE_RESIDE_HOGAR',\n",
    "                'ES_CAMPESINO','ALGUNA_VEZ_CAMPESINO','VIVE_COMUNIDAD_CAMPESINA','ETNIA','ESTADO_CIVIL','SABE_LEER_Y_ESCRIBIR','SE_ENCUENTRA_ESTUDIANDO',\n",
    "                'INSTITUCION','MAYOR_NIVEL_EDUCATIVO_ALCANZADO','MAYOR_GRADO_ALCANZADO','ULTIMO_DIPLOMA_RECIBIDO','EN_QUE_RECIBIO_DIPLOMA',\n",
    "                'IDENTIDAD_GENERO','PERIODO','HOGAR','TIPO_DE_VIVIENDA','ENERGIA_ELECTRICA','ESTRATO_ENERGIA','GAS_NATURAL','ALCANTARILLADO',\n",
    "                'RECOLECCION_DE_BASURAS','ACUEDUCTO','P5222S1','P5222S2', 'P5222S3', 'P5222S4', 'P5222S5', 'P5222S6', 'P5222S7','P5222S8',\n",
    "                'P5222S8A1', 'P5222S9', 'P5222S10','NUM_PERSONAS_HOGAR','DPTO','AREA','ZONA','Occupation_Status']"
   ]
  },
  {
   "cell_type": "code",
   "execution_count": 11,
   "metadata": {},
   "outputs": [],
   "source": [
    "# Calculate the percentage of missing values in each column\n",
    "missing_percentage = data.isnull().mean() * 100\n",
    "\n",
    "# Get the columns with missing values greater than or equal to 1%\n",
    "columns_to_drop = missing_percentage[missing_percentage >= 1].index\n",
    "\n",
    "# Drop the columns from the dataframe\n",
    "data = data.drop(columns=columns_to_drop)"
   ]
  },
  {
   "cell_type": "code",
   "execution_count": 12,
   "metadata": {},
   "outputs": [
    {
     "data": {
      "text/plain": [
       "(114113, 31)"
      ]
     },
     "execution_count": 12,
     "metadata": {},
     "output_type": "execute_result"
    }
   ],
   "source": [
    "data.shape"
   ]
  },
  {
   "cell_type": "code",
   "execution_count": 13,
   "metadata": {},
   "outputs": [],
   "source": [
    "data_analisis = data.drop(columns=['PERIODO','DIRECTORIO','SECUENCIA_P','ORDEN','PT','POB_MAY18','HOGAR'])"
   ]
  },
  {
   "cell_type": "code",
   "execution_count": 14,
   "metadata": {},
   "outputs": [
    {
     "data": {
      "text/plain": [
       "Index(['SEXO_PERSONA', 'EDAD', 'PARENTESCO', 'MADRE_RESIDE_HOGAR',\n",
       "       'PADRE_RESIDE_HOGAR', 'ES_CAMPESINO', 'VIVE_COMUNIDAD_CAMPESINA',\n",
       "       'ETNIA', 'ESTADO_CIVIL', 'SABE_LEER_Y_ESCRIBIR',\n",
       "       'SE_ENCUENTRA_ESTUDIANDO', 'MAYOR_NIVEL_EDUCATIVO_ALCANZADO',\n",
       "       'IDENTIDAD_GENERO', 'TIPO_DE_VIVIENDA', 'ENERGIA_ELECTRICA',\n",
       "       'ESTRATO_ENERGIA', 'GAS_NATURAL', 'ALCANTARILLADO',\n",
       "       'RECOLECCION_DE_BASURAS', 'ACUEDUCTO', 'NUM_PERSONAS_HOGAR', 'DPTO',\n",
       "       'ZONA', 'Occupation_Status'],\n",
       "      dtype='object')"
      ]
     },
     "execution_count": 14,
     "metadata": {},
     "output_type": "execute_result"
    }
   ],
   "source": [
    "data_analisis.columns"
   ]
  },
  {
   "cell_type": "code",
   "execution_count": 15,
   "metadata": {},
   "outputs": [
    {
     "data": {
      "text/html": [
       "<div>\n",
       "<style scoped>\n",
       "    .dataframe tbody tr th:only-of-type {\n",
       "        vertical-align: middle;\n",
       "    }\n",
       "\n",
       "    .dataframe tbody tr th {\n",
       "        vertical-align: top;\n",
       "    }\n",
       "\n",
       "    .dataframe thead th {\n",
       "        text-align: right;\n",
       "    }\n",
       "</style>\n",
       "<table border=\"1\" class=\"dataframe\">\n",
       "  <thead>\n",
       "    <tr style=\"text-align: right;\">\n",
       "      <th></th>\n",
       "      <th>SEXO_PERSONA</th>\n",
       "      <th>EDAD</th>\n",
       "      <th>PARENTESCO</th>\n",
       "      <th>MADRE_RESIDE_HOGAR</th>\n",
       "      <th>PADRE_RESIDE_HOGAR</th>\n",
       "      <th>ES_CAMPESINO</th>\n",
       "      <th>VIVE_COMUNIDAD_CAMPESINA</th>\n",
       "      <th>ETNIA</th>\n",
       "      <th>ESTADO_CIVIL</th>\n",
       "      <th>SABE_LEER_Y_ESCRIBIR</th>\n",
       "      <th>...</th>\n",
       "      <th>ENERGIA_ELECTRICA</th>\n",
       "      <th>ESTRATO_ENERGIA</th>\n",
       "      <th>GAS_NATURAL</th>\n",
       "      <th>ALCANTARILLADO</th>\n",
       "      <th>RECOLECCION_DE_BASURAS</th>\n",
       "      <th>ACUEDUCTO</th>\n",
       "      <th>NUM_PERSONAS_HOGAR</th>\n",
       "      <th>DPTO</th>\n",
       "      <th>ZONA</th>\n",
       "      <th>Occupation_Status</th>\n",
       "    </tr>\n",
       "  </thead>\n",
       "  <tbody>\n",
       "    <tr>\n",
       "      <th>0</th>\n",
       "      <td>Masculino</td>\n",
       "      <td>27</td>\n",
       "      <td>Pareja, esposo(a), conyugue, compañero(a)</td>\n",
       "      <td>No</td>\n",
       "      <td>No</td>\n",
       "      <td>Si</td>\n",
       "      <td>Si</td>\n",
       "      <td>Ninguno de los anteriores</td>\n",
       "      <td>No esta  casado (a)  y vive en pareja   hace d...</td>\n",
       "      <td>Si</td>\n",
       "      <td>...</td>\n",
       "      <td>Si</td>\n",
       "      <td>Bajo</td>\n",
       "      <td>No</td>\n",
       "      <td>Si</td>\n",
       "      <td>Si</td>\n",
       "      <td>Si</td>\n",
       "      <td>3</td>\n",
       "      <td>CUNDINAMARCA</td>\n",
       "      <td>Cabecera</td>\n",
       "      <td>0</td>\n",
       "    </tr>\n",
       "    <tr>\n",
       "      <th>1</th>\n",
       "      <td>Masculino</td>\n",
       "      <td>18</td>\n",
       "      <td>Hijo(a), hijastro(a)</td>\n",
       "      <td>Si</td>\n",
       "      <td>No</td>\n",
       "      <td>Si</td>\n",
       "      <td>Si</td>\n",
       "      <td>Ninguno de los anteriores</td>\n",
       "      <td>Esta soltero (a)</td>\n",
       "      <td>Si</td>\n",
       "      <td>...</td>\n",
       "      <td>Si</td>\n",
       "      <td>Bajo - Bajo</td>\n",
       "      <td>Si</td>\n",
       "      <td>No</td>\n",
       "      <td>Si</td>\n",
       "      <td>Si</td>\n",
       "      <td>5</td>\n",
       "      <td>RISALRALDA</td>\n",
       "      <td>Resto</td>\n",
       "      <td>0</td>\n",
       "    </tr>\n",
       "    <tr>\n",
       "      <th>2</th>\n",
       "      <td>Femenino</td>\n",
       "      <td>25</td>\n",
       "      <td>Hijo(a), hijastro(a)</td>\n",
       "      <td>No</td>\n",
       "      <td>Si</td>\n",
       "      <td>Si</td>\n",
       "      <td>Si</td>\n",
       "      <td>Ninguno de los anteriores</td>\n",
       "      <td>Esta soltero (a)</td>\n",
       "      <td>Si</td>\n",
       "      <td>...</td>\n",
       "      <td>Si</td>\n",
       "      <td>Bajo - Bajo</td>\n",
       "      <td>Si</td>\n",
       "      <td>No</td>\n",
       "      <td>Si</td>\n",
       "      <td>Si</td>\n",
       "      <td>2</td>\n",
       "      <td>RISALRALDA</td>\n",
       "      <td>Resto</td>\n",
       "      <td>0</td>\n",
       "    </tr>\n",
       "    <tr>\n",
       "      <th>3</th>\n",
       "      <td>Femenino</td>\n",
       "      <td>28</td>\n",
       "      <td>Pareja, esposo(a), conyugue, compañero(a)</td>\n",
       "      <td>No</td>\n",
       "      <td>No</td>\n",
       "      <td>No</td>\n",
       "      <td>No</td>\n",
       "      <td>Ninguno de los anteriores</td>\n",
       "      <td>No esta  casado (a)  y vive en pareja   hace d...</td>\n",
       "      <td>Si</td>\n",
       "      <td>...</td>\n",
       "      <td>Si</td>\n",
       "      <td>Bajo - Bajo</td>\n",
       "      <td>Si</td>\n",
       "      <td>No</td>\n",
       "      <td>Si</td>\n",
       "      <td>Si</td>\n",
       "      <td>3</td>\n",
       "      <td>RISALRALDA</td>\n",
       "      <td>Resto</td>\n",
       "      <td>0</td>\n",
       "    </tr>\n",
       "    <tr>\n",
       "      <th>4</th>\n",
       "      <td>Femenino</td>\n",
       "      <td>27</td>\n",
       "      <td>Hijo(a), hijastro(a)</td>\n",
       "      <td>Si</td>\n",
       "      <td>No</td>\n",
       "      <td>Si</td>\n",
       "      <td>Si</td>\n",
       "      <td>Ninguno de los anteriores</td>\n",
       "      <td>Esta soltero (a)</td>\n",
       "      <td>Si</td>\n",
       "      <td>...</td>\n",
       "      <td>Si</td>\n",
       "      <td>Bajo - Bajo</td>\n",
       "      <td>Si</td>\n",
       "      <td>No</td>\n",
       "      <td>Si</td>\n",
       "      <td>Si</td>\n",
       "      <td>6</td>\n",
       "      <td>RISALRALDA</td>\n",
       "      <td>Resto</td>\n",
       "      <td>0</td>\n",
       "    </tr>\n",
       "  </tbody>\n",
       "</table>\n",
       "<p>5 rows × 24 columns</p>\n",
       "</div>"
      ],
      "text/plain": [
       "  SEXO_PERSONA  EDAD                                 PARENTESCO  \\\n",
       "0    Masculino    27  Pareja, esposo(a), conyugue, compañero(a)   \n",
       "1    Masculino    18                       Hijo(a), hijastro(a)   \n",
       "2     Femenino    25                       Hijo(a), hijastro(a)   \n",
       "3     Femenino    28  Pareja, esposo(a), conyugue, compañero(a)   \n",
       "4     Femenino    27                       Hijo(a), hijastro(a)   \n",
       "\n",
       "  MADRE_RESIDE_HOGAR PADRE_RESIDE_HOGAR ES_CAMPESINO VIVE_COMUNIDAD_CAMPESINA  \\\n",
       "0                 No                 No           Si                       Si   \n",
       "1                 Si                 No           Si                       Si   \n",
       "2                 No                 Si           Si                       Si   \n",
       "3                 No                 No           No                       No   \n",
       "4                 Si                 No           Si                       Si   \n",
       "\n",
       "                       ETNIA  \\\n",
       "0  Ninguno de los anteriores   \n",
       "1  Ninguno de los anteriores   \n",
       "2  Ninguno de los anteriores   \n",
       "3  Ninguno de los anteriores   \n",
       "4  Ninguno de los anteriores   \n",
       "\n",
       "                                        ESTADO_CIVIL SABE_LEER_Y_ESCRIBIR  \\\n",
       "0  No esta  casado (a)  y vive en pareja   hace d...                   Si   \n",
       "1                                   Esta soltero (a)                   Si   \n",
       "2                                   Esta soltero (a)                   Si   \n",
       "3  No esta  casado (a)  y vive en pareja   hace d...                   Si   \n",
       "4                                   Esta soltero (a)                   Si   \n",
       "\n",
       "   ... ENERGIA_ELECTRICA ESTRATO_ENERGIA GAS_NATURAL ALCANTARILLADO  \\\n",
       "0  ...                Si            Bajo          No             Si   \n",
       "1  ...                Si     Bajo - Bajo          Si             No   \n",
       "2  ...                Si     Bajo - Bajo          Si             No   \n",
       "3  ...                Si     Bajo - Bajo          Si             No   \n",
       "4  ...                Si     Bajo - Bajo          Si             No   \n",
       "\n",
       "  RECOLECCION_DE_BASURAS ACUEDUCTO NUM_PERSONAS_HOGAR          DPTO      ZONA  \\\n",
       "0                     Si        Si                  3  CUNDINAMARCA  Cabecera   \n",
       "1                     Si        Si                  5    RISALRALDA     Resto   \n",
       "2                     Si        Si                  2    RISALRALDA     Resto   \n",
       "3                     Si        Si                  3    RISALRALDA     Resto   \n",
       "4                     Si        Si                  6    RISALRALDA     Resto   \n",
       "\n",
       "  Occupation_Status  \n",
       "0                 0  \n",
       "1                 0  \n",
       "2                 0  \n",
       "3                 0  \n",
       "4                 0  \n",
       "\n",
       "[5 rows x 24 columns]"
      ]
     },
     "execution_count": 15,
     "metadata": {},
     "output_type": "execute_result"
    }
   ],
   "source": [
    "data_analisis.head()"
   ]
  },
  {
   "cell_type": "code",
   "execution_count": 16,
   "metadata": {},
   "outputs": [
    {
     "name": "stdout",
     "output_type": "stream",
     "text": [
      "<class 'pandas.core.frame.DataFrame'>\n",
      "RangeIndex: 114113 entries, 0 to 114112\n",
      "Data columns (total 24 columns):\n",
      " #   Column                           Non-Null Count   Dtype \n",
      "---  ------                           --------------   ----- \n",
      " 0   SEXO_PERSONA                     114113 non-null  object\n",
      " 1   EDAD                             114113 non-null  int64 \n",
      " 2   PARENTESCO                       114113 non-null  object\n",
      " 3   MADRE_RESIDE_HOGAR               114113 non-null  object\n",
      " 4   PADRE_RESIDE_HOGAR               114113 non-null  object\n",
      " 5   ES_CAMPESINO                     114113 non-null  object\n",
      " 6   VIVE_COMUNIDAD_CAMPESINA         114113 non-null  object\n",
      " 7   ETNIA                            114113 non-null  object\n",
      " 8   ESTADO_CIVIL                     114113 non-null  object\n",
      " 9   SABE_LEER_Y_ESCRIBIR             114113 non-null  object\n",
      " 10  SE_ENCUENTRA_ESTUDIANDO          114113 non-null  object\n",
      " 11  MAYOR_NIVEL_EDUCATIVO_ALCANZADO  114113 non-null  object\n",
      " 12  IDENTIDAD_GENERO                 114113 non-null  object\n",
      " 13  TIPO_DE_VIVIENDA                 114113 non-null  object\n",
      " 14  ENERGIA_ELECTRICA                114113 non-null  object\n",
      " 15  ESTRATO_ENERGIA                  113177 non-null  object\n",
      " 16  GAS_NATURAL                      114113 non-null  object\n",
      " 17  ALCANTARILLADO                   114113 non-null  object\n",
      " 18  RECOLECCION_DE_BASURAS           114113 non-null  object\n",
      " 19  ACUEDUCTO                        114113 non-null  object\n",
      " 20  NUM_PERSONAS_HOGAR               114113 non-null  int64 \n",
      " 21  DPTO                             114113 non-null  object\n",
      " 22  ZONA                             114113 non-null  object\n",
      " 23  Occupation_Status                114113 non-null  int32 \n",
      "dtypes: int32(1), int64(2), object(21)\n",
      "memory usage: 20.5+ MB\n"
     ]
    }
   ],
   "source": [
    "data_analisis.info()"
   ]
  },
  {
   "cell_type": "markdown",
   "metadata": {},
   "source": [
    "# Exploración y Selección de Variables cualitativas\n",
    "- Information Value\n",
    "- Prueba Chi2 de Linealidad\n",
    "- Feature Importance"
   ]
  },
  {
   "cell_type": "code",
   "execution_count": 17,
   "metadata": {},
   "outputs": [
    {
     "data": {
      "text/plain": [
       "Index(['SEXO_PERSONA', 'PARENTESCO', 'MADRE_RESIDE_HOGAR',\n",
       "       'PADRE_RESIDE_HOGAR', 'ES_CAMPESINO', 'VIVE_COMUNIDAD_CAMPESINA',\n",
       "       'ETNIA', 'ESTADO_CIVIL', 'SABE_LEER_Y_ESCRIBIR',\n",
       "       'SE_ENCUENTRA_ESTUDIANDO', 'MAYOR_NIVEL_EDUCATIVO_ALCANZADO',\n",
       "       'IDENTIDAD_GENERO', 'TIPO_DE_VIVIENDA', 'ENERGIA_ELECTRICA',\n",
       "       'ESTRATO_ENERGIA', 'GAS_NATURAL', 'ALCANTARILLADO',\n",
       "       'RECOLECCION_DE_BASURAS', 'ACUEDUCTO', 'DPTO', 'ZONA',\n",
       "       'Occupation_Status'],\n",
       "      dtype='object')"
      ]
     },
     "execution_count": 17,
     "metadata": {},
     "output_type": "execute_result"
    }
   ],
   "source": [
    "categoric = data_analisis.select_dtypes(include=['category','object']).columns\n",
    "categorical = data_analisis[list(categoric) + ['Occupation_Status']]\n",
    "categorical.columns"
   ]
  },
  {
   "cell_type": "code",
   "execution_count": 18,
   "metadata": {},
   "outputs": [],
   "source": [
    "from data_module.visualizacion import grafico_frecuencia_acumulada"
   ]
  },
  {
   "cell_type": "code",
   "execution_count": 19,
   "metadata": {},
   "outputs": [
    {
     "data": {
      "image/png": "[encoded data removed]",
      "text/plain": [
       "<Figure size 1000x700 with 1 Axes>"
      ]
     },
     "metadata": {},
     "output_type": "display_data"
    }
   ],
   "source": [
    "grafico_frecuencia_acumulada(data=data_analisis, categorical='ENERGIA_ELECTRICA', target='Occupation_Status', \n",
    "                             title = 'Gráfico de Frecuencia acumulada de la variable ENERGIA_ELECTRICA', colors=['#FF0000','#0000FF'],\n",
    "                             x_axis_rotation=0)"
   ]
  },
  {
   "cell_type": "code",
   "execution_count": 20,
   "metadata": {},
   "outputs": [],
   "source": [
    "from data_module.pruebas import calculate_woe_iv"
   ]
  },
  {
   "cell_type": "code",
   "execution_count": 21,
   "metadata": {},
   "outputs": [
    {
     "name": "stdout",
     "output_type": "stream",
     "text": [
      "Resultados del Cálculo de IV\n"
     ]
    },
    {
     "data": {
      "text/html": [
       "<div>\n",
       "<style scoped>\n",
       "    .dataframe tbody tr th:only-of-type {\n",
       "        vertical-align: middle;\n",
       "    }\n",
       "\n",
       "    .dataframe tbody tr th {\n",
       "        vertical-align: top;\n",
       "    }\n",
       "\n",
       "    .dataframe thead th {\n",
       "        text-align: right;\n",
       "    }\n",
       "</style>\n",
       "<table border=\"1\" class=\"dataframe\">\n",
       "  <thead>\n",
       "    <tr style=\"text-align: right;\">\n",
       "      <th></th>\n",
       "      <th>IV</th>\n",
       "    </tr>\n",
       "  </thead>\n",
       "  <tbody>\n",
       "    <tr>\n",
       "      <th>ZONA</th>\n",
       "      <td>0.110287</td>\n",
       "    </tr>\n",
       "    <tr>\n",
       "      <th>VIVE_COMUNIDAD_CAMPESINA</th>\n",
       "      <td>0.089632</td>\n",
       "    </tr>\n",
       "    <tr>\n",
       "      <th>RECOLECCION_DE_BASURAS</th>\n",
       "      <td>0.077287</td>\n",
       "    </tr>\n",
       "    <tr>\n",
       "      <th>DPTO</th>\n",
       "      <td>0.072584</td>\n",
       "    </tr>\n",
       "    <tr>\n",
       "      <th>ES_CAMPESINO</th>\n",
       "      <td>0.048288</td>\n",
       "    </tr>\n",
       "    <tr>\n",
       "      <th>TIPO_DE_VIVIENDA</th>\n",
       "      <td>0.0363</td>\n",
       "    </tr>\n",
       "    <tr>\n",
       "      <th>ALCANTARILLADO</th>\n",
       "      <td>0.031306</td>\n",
       "    </tr>\n",
       "    <tr>\n",
       "      <th>ESTRATO_ENERGIA</th>\n",
       "      <td>0.025952</td>\n",
       "    </tr>\n",
       "    <tr>\n",
       "      <th>ACUEDUCTO</th>\n",
       "      <td>0.019394</td>\n",
       "    </tr>\n",
       "    <tr>\n",
       "      <th>MAYOR_NIVEL_EDUCATIVO_ALCANZADO</th>\n",
       "      <td>0.016082</td>\n",
       "    </tr>\n",
       "    <tr>\n",
       "      <th>GAS_NATURAL</th>\n",
       "      <td>0.010213</td>\n",
       "    </tr>\n",
       "    <tr>\n",
       "      <th>ENERGIA_ELECTRICA</th>\n",
       "      <td>0.008723</td>\n",
       "    </tr>\n",
       "    <tr>\n",
       "      <th>ETNIA</th>\n",
       "      <td>0.008298</td>\n",
       "    </tr>\n",
       "    <tr>\n",
       "      <th>ESTADO_CIVIL</th>\n",
       "      <td>0.005</td>\n",
       "    </tr>\n",
       "    <tr>\n",
       "      <th>PARENTESCO</th>\n",
       "      <td>0.00298</td>\n",
       "    </tr>\n",
       "    <tr>\n",
       "      <th>SE_ENCUENTRA_ESTUDIANDO</th>\n",
       "      <td>0.002405</td>\n",
       "    </tr>\n",
       "    <tr>\n",
       "      <th>SABE_LEER_Y_ESCRIBIR</th>\n",
       "      <td>0.00109</td>\n",
       "    </tr>\n",
       "    <tr>\n",
       "      <th>MADRE_RESIDE_HOGAR</th>\n",
       "      <td>0.000746</td>\n",
       "    </tr>\n",
       "    <tr>\n",
       "      <th>IDENTIDAD_GENERO</th>\n",
       "      <td>0.000165</td>\n",
       "    </tr>\n",
       "    <tr>\n",
       "      <th>SEXO_PERSONA</th>\n",
       "      <td>0.000155</td>\n",
       "    </tr>\n",
       "    <tr>\n",
       "      <th>PADRE_RESIDE_HOGAR</th>\n",
       "      <td>0.000047</td>\n",
       "    </tr>\n",
       "  </tbody>\n",
       "</table>\n",
       "</div>"
      ],
      "text/plain": [
       "                                       IV\n",
       "ZONA                             0.110287\n",
       "VIVE_COMUNIDAD_CAMPESINA         0.089632\n",
       "RECOLECCION_DE_BASURAS           0.077287\n",
       "DPTO                             0.072584\n",
       "ES_CAMPESINO                     0.048288\n",
       "TIPO_DE_VIVIENDA                   0.0363\n",
       "ALCANTARILLADO                   0.031306\n",
       "ESTRATO_ENERGIA                  0.025952\n",
       "ACUEDUCTO                        0.019394\n",
       "MAYOR_NIVEL_EDUCATIVO_ALCANZADO  0.016082\n",
       "GAS_NATURAL                      0.010213\n",
       "ENERGIA_ELECTRICA                0.008723\n",
       "ETNIA                            0.008298\n",
       "ESTADO_CIVIL                        0.005\n",
       "PARENTESCO                        0.00298\n",
       "SE_ENCUENTRA_ESTUDIANDO          0.002405\n",
       "SABE_LEER_Y_ESCRIBIR              0.00109\n",
       "MADRE_RESIDE_HOGAR               0.000746\n",
       "IDENTIDAD_GENERO                 0.000165\n",
       "SEXO_PERSONA                     0.000155\n",
       "PADRE_RESIDE_HOGAR               0.000047"
      ]
     },
     "metadata": {},
     "output_type": "display_data"
    },
    {
     "name": "stdout",
     "output_type": "stream",
     "text": [
      "Variables con IV mayor a 0.02, es decir, predictores aceptables\n"
     ]
    },
    {
     "data": {
      "text/html": [
       "<div>\n",
       "<style scoped>\n",
       "    .dataframe tbody tr th:only-of-type {\n",
       "        vertical-align: middle;\n",
       "    }\n",
       "\n",
       "    .dataframe tbody tr th {\n",
       "        vertical-align: top;\n",
       "    }\n",
       "\n",
       "    .dataframe thead th {\n",
       "        text-align: right;\n",
       "    }\n",
       "</style>\n",
       "<table border=\"1\" class=\"dataframe\">\n",
       "  <thead>\n",
       "    <tr style=\"text-align: right;\">\n",
       "      <th></th>\n",
       "      <th>IV</th>\n",
       "    </tr>\n",
       "  </thead>\n",
       "  <tbody>\n",
       "    <tr>\n",
       "      <th>ZONA</th>\n",
       "      <td>0.110287</td>\n",
       "    </tr>\n",
       "    <tr>\n",
       "      <th>VIVE_COMUNIDAD_CAMPESINA</th>\n",
       "      <td>0.089632</td>\n",
       "    </tr>\n",
       "    <tr>\n",
       "      <th>RECOLECCION_DE_BASURAS</th>\n",
       "      <td>0.077287</td>\n",
       "    </tr>\n",
       "    <tr>\n",
       "      <th>DPTO</th>\n",
       "      <td>0.072584</td>\n",
       "    </tr>\n",
       "    <tr>\n",
       "      <th>ES_CAMPESINO</th>\n",
       "      <td>0.048288</td>\n",
       "    </tr>\n",
       "    <tr>\n",
       "      <th>TIPO_DE_VIVIENDA</th>\n",
       "      <td>0.0363</td>\n",
       "    </tr>\n",
       "    <tr>\n",
       "      <th>ALCANTARILLADO</th>\n",
       "      <td>0.031306</td>\n",
       "    </tr>\n",
       "    <tr>\n",
       "      <th>ESTRATO_ENERGIA</th>\n",
       "      <td>0.025952</td>\n",
       "    </tr>\n",
       "  </tbody>\n",
       "</table>\n",
       "</div>"
      ],
      "text/plain": [
       "                                IV\n",
       "ZONA                      0.110287\n",
       "VIVE_COMUNIDAD_CAMPESINA  0.089632\n",
       "RECOLECCION_DE_BASURAS    0.077287\n",
       "DPTO                      0.072584\n",
       "ES_CAMPESINO              0.048288\n",
       "TIPO_DE_VIVIENDA            0.0363\n",
       "ALCANTARILLADO            0.031306\n",
       "ESTRATO_ENERGIA           0.025952"
      ]
     },
     "metadata": {},
     "output_type": "display_data"
    }
   ],
   "source": [
    "iv_df = pd.DataFrame(columns=['IV'])\n",
    "\n",
    "# Calculate WOE and IV for each variable in the categorical dataframe\n",
    "for column in categorical.columns:\n",
    "    if column != 'Occupation_Status':\n",
    "        woe, iv = calculate_woe_iv(categorical, column, 'Occupation_Status')\n",
    "        sum_iv = sum([i for i in iv.values()])\n",
    "        iv_df.loc[column, 'IV'] = sum_iv\n",
    "\n",
    "# Display the resulting dataframe\n",
    "print(\"Resultados del Cálculo de IV\")\n",
    "display(iv_df.sort_values(by='IV', ascending=False))\n",
    "\n",
    "print(\"Variables con IV mayor a 0.02, es decir, predictores aceptables\")\n",
    "display(iv_df[iv_df['IV'] > 0.02].sort_values(by='IV', ascending=False))\n",
    "\n",
    "iv_columns = list(iv_df[iv_df['IV'] > 0.02].sort_values(by='IV', ascending=False).index)[:5]"
   ]
  },
  {
   "cell_type": "code",
   "execution_count": 22,
   "metadata": {},
   "outputs": [],
   "source": [
    "from data_module.pruebas import chi2_test_of_normality"
   ]
  },
  {
   "cell_type": "code",
   "execution_count": 23,
   "metadata": {},
   "outputs": [],
   "source": [
    "from sklearn.tree import DecisionTreeClassifier\n",
    "from sklearn.preprocessing import OneHotEncoder\n",
    "\n",
    "# Create the OneHotEncoder\n",
    "encoder = OneHotEncoder()\n",
    "categorical_encoded = encoder.fit_transform(categorical.drop(columns='Occupation_Status'))\n",
    "\n",
    "# Create the decision tree classifier\n",
    "tree = DecisionTreeClassifier(random_state=42)\n",
    "tree.fit(categorical_encoded, categorical['Occupation_Status'])\n",
    "\n",
    "# Calculate feature importance\n",
    "feature_importance = tree.feature_importances_"
   ]
  },
  {
   "cell_type": "code",
   "execution_count": 24,
   "metadata": {},
   "outputs": [
    {
     "data": {
      "text/html": [
       "<div>\n",
       "<style scoped>\n",
       "    .dataframe tbody tr th:only-of-type {\n",
       "        vertical-align: middle;\n",
       "    }\n",
       "\n",
       "    .dataframe tbody tr th {\n",
       "        vertical-align: top;\n",
       "    }\n",
       "\n",
       "    .dataframe thead th {\n",
       "        text-align: right;\n",
       "    }\n",
       "</style>\n",
       "<table border=\"1\" class=\"dataframe\">\n",
       "  <thead>\n",
       "    <tr style=\"text-align: right;\">\n",
       "      <th></th>\n",
       "      <th>Variable</th>\n",
       "      <th>Feature Importance</th>\n",
       "    </tr>\n",
       "  </thead>\n",
       "  <tbody>\n",
       "    <tr>\n",
       "      <th>48</th>\n",
       "      <td>MAYOR_NIVEL_EDUCATIVO_ALCANZADO_Media académic...</td>\n",
       "      <td>0.032201</td>\n",
       "    </tr>\n",
       "    <tr>\n",
       "      <th>119</th>\n",
       "      <td>ZONA_Cabecera</td>\n",
       "      <td>0.029849</td>\n",
       "    </tr>\n",
       "    <tr>\n",
       "      <th>19</th>\n",
       "      <td>PADRE_RESIDE_HOGAR_No</td>\n",
       "      <td>0.029319</td>\n",
       "    </tr>\n",
       "    <tr>\n",
       "      <th>55</th>\n",
       "      <td>MAYOR_NIVEL_EDUCATIVO_ALCANZADO_Técnica profes...</td>\n",
       "      <td>0.025498</td>\n",
       "    </tr>\n",
       "    <tr>\n",
       "      <th>5</th>\n",
       "      <td>PARENTESCO_Jefe del Hogar</td>\n",
       "      <td>0.025331</td>\n",
       "    </tr>\n",
       "    <tr>\n",
       "      <th>42</th>\n",
       "      <td>SE_ENCUENTRA_ESTUDIANDO_Si</td>\n",
       "      <td>0.024643</td>\n",
       "    </tr>\n",
       "    <tr>\n",
       "      <th>56</th>\n",
       "      <td>MAYOR_NIVEL_EDUCATIVO_ALCANZADO_Universitaria</td>\n",
       "      <td>0.024096</td>\n",
       "    </tr>\n",
       "    <tr>\n",
       "      <th>41</th>\n",
       "      <td>SE_ENCUENTRA_ESTUDIANDO_No</td>\n",
       "      <td>0.024059</td>\n",
       "    </tr>\n",
       "    <tr>\n",
       "      <th>44</th>\n",
       "      <td>MAYOR_NIVEL_EDUCATIVO_ALCANZADO_Básica secunda...</td>\n",
       "      <td>0.023117</td>\n",
       "    </tr>\n",
       "    <tr>\n",
       "      <th>20</th>\n",
       "      <td>PADRE_RESIDE_HOGAR_Si</td>\n",
       "      <td>0.023038</td>\n",
       "    </tr>\n",
       "  </tbody>\n",
       "</table>\n",
       "</div>"
      ],
      "text/plain": [
       "                                              Variable  Feature Importance\n",
       "48   MAYOR_NIVEL_EDUCATIVO_ALCANZADO_Media académic...            0.032201\n",
       "119                                      ZONA_Cabecera            0.029849\n",
       "19                               PADRE_RESIDE_HOGAR_No            0.029319\n",
       "55   MAYOR_NIVEL_EDUCATIVO_ALCANZADO_Técnica profes...            0.025498\n",
       "5                            PARENTESCO_Jefe del Hogar            0.025331\n",
       "42                          SE_ENCUENTRA_ESTUDIANDO_Si            0.024643\n",
       "56       MAYOR_NIVEL_EDUCATIVO_ALCANZADO_Universitaria            0.024096\n",
       "41                          SE_ENCUENTRA_ESTUDIANDO_No            0.024059\n",
       "44   MAYOR_NIVEL_EDUCATIVO_ALCANZADO_Básica secunda...            0.023117\n",
       "20                               PADRE_RESIDE_HOGAR_Si            0.023038"
      ]
     },
     "metadata": {},
     "output_type": "display_data"
    }
   ],
   "source": [
    "# Create a dataframe to store the feature importance\n",
    "feature_importance_df = pd.DataFrame({'Variable': encoder.get_feature_names_out(categorical.drop(columns='Occupation_Status').columns),\n",
    "                                      'Feature Importance': feature_importance})\n",
    "\n",
    "# Display the dataframe\n",
    "display(feature_importance_df.sort_values(by='Feature Importance', ascending=False)[:10])"
   ]
  },
  {
   "cell_type": "code",
   "execution_count": 25,
   "metadata": {},
   "outputs": [],
   "source": [
    "feature_importance_df['VAR'] = feature_importance_df['Variable'].apply(lambda x: '_'.join(x.split('_')[:-1]))"
   ]
  },
  {
   "cell_type": "code",
   "execution_count": 26,
   "metadata": {},
   "outputs": [],
   "source": [
    "result_fi = feature_importance_df.groupby('VAR')['Feature Importance'].mean().sort_values(ascending=False)\n"
   ]
  },
  {
   "cell_type": "code",
   "execution_count": 27,
   "metadata": {},
   "outputs": [
    {
     "data": {
      "text/plain": [
       "VAR\n",
       "PADRE_RESIDE_HOGAR                 0.024915\n",
       "SE_ENCUENTRA_ESTUDIANDO            0.024351\n",
       "MADRE_RESIDE_HOGAR                 0.018327\n",
       "SEXO_PERSONA                       0.017272\n",
       "ZONA                               0.014925\n",
       "ESTADO_CIVIL                       0.013457\n",
       "GAS_NATURAL                        0.013131\n",
       "ES_CAMPESINO                       0.012912\n",
       "MAYOR_NIVEL_EDUCATIVO_ALCANZADO    0.011191\n",
       "PARENTESCO                         0.009551\n",
       "IDENTIDAD_GENERO                   0.009527\n",
       "ALCANTARILLADO                     0.007555\n",
       "ESTRATO_ENERGIA                    0.006856\n",
       "ACUEDUCTO                          0.006281\n",
       "ETNIA                              0.004593\n",
       "RECOLECCION_DE_BASURAS             0.004380\n",
       "DPTO                               0.004056\n",
       "TIPO_DE_VIVIENDA                   0.003605\n",
       "VIVE_COMUNIDAD_CAMPESINA           0.002511\n",
       "SABE_LEER_Y_ESCRIBIR               0.001711\n",
       "ENERGIA_ELECTRICA                  0.000195\n",
       "Name: Feature Importance, dtype: float64"
      ]
     },
     "execution_count": 27,
     "metadata": {},
     "output_type": "execute_result"
    }
   ],
   "source": [
    "result_fi"
   ]
  },
  {
   "cell_type": "code",
   "execution_count": 28,
   "metadata": {},
   "outputs": [],
   "source": [
    "fi_columns = list(result_fi[:5].index)"
   ]
  },
  {
   "cell_type": "code",
   "execution_count": 29,
   "metadata": {},
   "outputs": [],
   "source": [
    "categorical_columns = list(set(fi_columns).union(set(iv_columns)))"
   ]
  },
  {
   "cell_type": "code",
   "execution_count": 30,
   "metadata": {},
   "outputs": [
    {
     "data": {
      "text/plain": [
       "['PADRE_RESIDE_HOGAR',\n",
       " 'VIVE_COMUNIDAD_CAMPESINA',\n",
       " 'ZONA',\n",
       " 'RECOLECCION_DE_BASURAS',\n",
       " 'SE_ENCUENTRA_ESTUDIANDO',\n",
       " 'SEXO_PERSONA',\n",
       " 'DPTO',\n",
       " 'ES_CAMPESINO',\n",
       " 'MADRE_RESIDE_HOGAR']"
      ]
     },
     "execution_count": 30,
     "metadata": {},
     "output_type": "execute_result"
    }
   ],
   "source": [
    "categorical_columns"
   ]
  },
  {
   "cell_type": "markdown",
   "metadata": {},
   "source": [
    "# Exploración y Selección de variables cuantitativas"
   ]
  },
  {
   "cell_type": "code",
   "execution_count": 31,
   "metadata": {},
   "outputs": [
    {
     "data": {
      "text/html": [
       "<div>\n",
       "<style scoped>\n",
       "    .dataframe tbody tr th:only-of-type {\n",
       "        vertical-align: middle;\n",
       "    }\n",
       "\n",
       "    .dataframe tbody tr th {\n",
       "        vertical-align: top;\n",
       "    }\n",
       "\n",
       "    .dataframe thead th {\n",
       "        text-align: right;\n",
       "    }\n",
       "</style>\n",
       "<table border=\"1\" class=\"dataframe\">\n",
       "  <thead>\n",
       "    <tr style=\"text-align: right;\">\n",
       "      <th></th>\n",
       "      <th>EDAD</th>\n",
       "      <th>NUM_PERSONAS_HOGAR</th>\n",
       "      <th>Occupation_Status</th>\n",
       "    </tr>\n",
       "  </thead>\n",
       "  <tbody>\n",
       "    <tr>\n",
       "      <th>0</th>\n",
       "      <td>27</td>\n",
       "      <td>3</td>\n",
       "      <td>0</td>\n",
       "    </tr>\n",
       "    <tr>\n",
       "      <th>1</th>\n",
       "      <td>18</td>\n",
       "      <td>5</td>\n",
       "      <td>0</td>\n",
       "    </tr>\n",
       "    <tr>\n",
       "      <th>2</th>\n",
       "      <td>25</td>\n",
       "      <td>2</td>\n",
       "      <td>0</td>\n",
       "    </tr>\n",
       "    <tr>\n",
       "      <th>3</th>\n",
       "      <td>28</td>\n",
       "      <td>3</td>\n",
       "      <td>0</td>\n",
       "    </tr>\n",
       "    <tr>\n",
       "      <th>4</th>\n",
       "      <td>27</td>\n",
       "      <td>6</td>\n",
       "      <td>0</td>\n",
       "    </tr>\n",
       "  </tbody>\n",
       "</table>\n",
       "</div>"
      ],
      "text/plain": [
       "   EDAD  NUM_PERSONAS_HOGAR  Occupation_Status\n",
       "0    27                   3                  0\n",
       "1    18                   5                  0\n",
       "2    25                   2                  0\n",
       "3    28                   3                  0\n",
       "4    27                   6                  0"
      ]
     },
     "execution_count": 31,
     "metadata": {},
     "output_type": "execute_result"
    }
   ],
   "source": [
    "numeric = data_analisis.select_dtypes(include='number').columns\n",
    "numerical = data_analisis[list(numeric)]\n",
    "numerical.head()"
   ]
  },
  {
   "cell_type": "code",
   "execution_count": 32,
   "metadata": {},
   "outputs": [
    {
     "data": {
      "image/png": "[encoded data removed]",
      "text/plain": [
       "<Figure size 1000x1000 with 2 Axes>"
      ]
     },
     "metadata": {},
     "output_type": "display_data"
    }
   ],
   "source": [
    "# Create a figure and axes\n",
    "fig, axes = plt.subplots(nrows=len(numeric)-1, figsize=(10,10))\n",
    "\n",
    "# Iterate over each variable in numeric\n",
    "for i, variable in enumerate(numeric):\n",
    "    if variable != 'Occupation_Status':\n",
    "\n",
    "        # Create a boxplot with Occupation_Status as the hue\n",
    "        sns.boxplot(y=variable, hue='Occupation_Status', data=data_analisis, ax=axes[i])\n",
    "\n",
    "    # Set the title and labels\n",
    "        axes[i].set_title(f'Boxplot de {variable}', fontsize = 14)\n",
    "        axes[i].set_ylabel(variable)\n",
    "        axes[i].set_xlabel('Occupation_Status')\n",
    "        axes[i].legend().remove()\n",
    "\n",
    "# Adjust the spacing between subplots\n",
    "#plt.tight_layout()\n",
    "\n",
    "# Create a common legend outside the subplots\n",
    "handles, labels = axes[0].get_legend_handles_labels()\n",
    "fig.legend(handles, labels, loc='center right', bbox_to_anchor=(1.15, 0.5), ncol=1, title = 'Occupation_Status', fontsize = 12)\n",
    "\n",
    "# Show the plot\n",
    "plt.show()\n",
    "\n"
   ]
  },
  {
   "cell_type": "code",
   "execution_count": 33,
   "metadata": {},
   "outputs": [
    {
     "data": {
      "image/png": "[encoded data removed]",
      "text/plain": [
       "<Figure size 500x500 with 2 Axes>"
      ]
     },
     "metadata": {},
     "output_type": "display_data"
    }
   ],
   "source": [
    "# Calculate the correlation matrix\n",
    "correlation_matrix = numerical.corr()\n",
    "\n",
    "# Plot the correlation matrix as a heatmap\n",
    "plt.figure(figsize=(5, 5))\n",
    "sns.heatmap(correlation_matrix, annot=True, cmap='coolwarm', fmt=\".2f\", linewidths=0.5)\n",
    "plt.title('Matriz de Correlacion', fontdict={'fontsize': 12}, pad=12)\n",
    "plt.xticks(rotation=10, fontsize=0, horizontalalignment='right')\n",
    "plt.yticks(rotation=0, fontsize=8)\n",
    "plt.show()\n"
   ]
  },
  {
   "cell_type": "code",
   "execution_count": 34,
   "metadata": {},
   "outputs": [
    {
     "name": "stderr",
     "output_type": "stream",
     "text": [
      "c:\\Users\\andre\\OneDrive\\Documentos\\Encuesta Integrada de Hogares\\venv\\lib\\site-packages\\sklearn\\feature_selection\\_univariate_selection.py:113: RuntimeWarning: divide by zero encountered in divide\n",
      "  f = msb / msw\n"
     ]
    }
   ],
   "source": [
    "from sklearn.feature_selection import SelectKBest, f_classif\n",
    "\n",
    "seleccion = SelectKBest(f_classif, k='all').    fit(numerical.fillna(0), categorical['Occupation_Status'])\n"
   ]
  },
  {
   "cell_type": "code",
   "execution_count": 35,
   "metadata": {},
   "outputs": [
    {
     "data": {
      "text/plain": [
       "array([ 0.92995286, 74.31774688,         inf])"
      ]
     },
     "metadata": {},
     "output_type": "display_data"
    },
    {
     "data": {
      "text/plain": [
       "array(['EDAD', 'NUM_PERSONAS_HOGAR', 'Occupation_Status'], dtype=object)"
      ]
     },
     "metadata": {},
     "output_type": "display_data"
    }
   ],
   "source": [
    "display(seleccion.scores_)\n",
    "display(seleccion.get_feature_names_out())\n"
   ]
  },
  {
   "cell_type": "code",
   "execution_count": 36,
   "metadata": {},
   "outputs": [],
   "source": [
    "numeric_columns = ['NUM_PERSONAS_HOGAR']\n",
    "target = 'Occupation_Status'"
   ]
  },
  {
   "cell_type": "code",
   "execution_count": 37,
   "metadata": {},
   "outputs": [],
   "source": [
    "final_columns = categorical_columns + numeric_columns"
   ]
  },
  {
   "cell_type": "code",
   "execution_count": 38,
   "metadata": {},
   "outputs": [],
   "source": [
    "X = data_analisis[final_columns]\n",
    "y = data_analisis[target]"
   ]
  },
  {
   "cell_type": "code",
   "execution_count": 39,
   "metadata": {},
   "outputs": [],
   "source": [
    "from sklearn.model_selection import train_test_split\n",
    "\n",
    "# Split the data into train and test sets\n",
    "X_train, X_test, y_train, y_test = train_test_split(X, y, random_state=42, test_size=0.2, stratify=y, shuffle=True)"
   ]
  },
  {
   "cell_type": "code",
   "execution_count": 40,
   "metadata": {},
   "outputs": [],
   "source": [
    "from sklearn.pipeline import Pipeline, make_pipeline\n",
    "from sklearn.impute import SimpleImputer\n",
    "from sklearn.preprocessing import StandardScaler, OneHotEncoder\n",
    "\n",
    "numerical_transformer= Pipeline (steps=[\n",
    "('imputer', SimpleImputer(strategy='mean') ),\n",
    "('scaler', StandardScaler())\n",
    "])\n",
    "\n",
    "categorical_transformer_num= Pipeline(steps=[\n",
    "    ('imputer_num', SimpleImputer(strategy=\"most_frequent\")),\n",
    "    ('one_hot', OneHotEncoder(drop='first', handle_unknown='ignore'))\n",
    "])"
   ]
  },
  {
   "cell_type": "code",
   "execution_count": 41,
   "metadata": {},
   "outputs": [],
   "source": [
    "from sklearn.compose import ColumnTransformer\n",
    "\n",
    "preprocessor = ColumnTransformer(\n",
    "    transformers=[\n",
    "     ('numeric', numerical_transformer, numeric_columns), # Auí para cada uno definimos el nombre del proceso, el proceso y en donde vamos a aplicarlo (Columnas)\n",
    "     ('categ', categorical_transformer_num, categorical_columns),\n",
    "    ]\n",
    ")\n"
   ]
  },
  {
   "cell_type": "code",
   "execution_count": 42,
   "metadata": {},
   "outputs": [],
   "source": [
    "X_train_preprocessed = preprocessor.fit_transform(X_train)\n",
    "X_test_preprocessed = preprocessor.transform(X_test)\n",
    "\n",
    "from imblearn.over_sampling import SMOTE\n",
    "\n",
    "smote = SMOTE(random_state=42)\n",
    "\n",
    "X_train_preprocessed_smote, y_train_smote = smote.fit_resample(X_train_preprocessed, y_train)"
   ]
  },
  {
   "cell_type": "code",
   "execution_count": 43,
   "metadata": {},
   "outputs": [],
   "source": [
    "# Regresíon Logística\n",
    "from sklearn.linear_model import LogisticRegression\n",
    "\n",
    "logistic_model = LogisticRegression(random_state=42, max_iter=100)\n",
    "logistic_params = {\n",
    "    'C': [0.001, 0.01, 0.1, 1, 10, 100]\n",
    "}\n",
    "\n",
    "# Arbol de Decisión\n",
    "from sklearn.tree import DecisionTreeClassifier\n",
    "tree_model = DecisionTreeClassifier(random_state=42)\n",
    "tree_params = {\n",
    "    'max_depth': range(2, 15),\n",
    "    'min_samples_split': range(2, 10),\n",
    "    'criterion': ['gini', 'entropy']\n",
    "}\n",
    "\n",
    "# KNN\n",
    "from sklearn.neighbors import KNeighborsClassifier\n",
    "knn_model = KNeighborsClassifier()\n",
    "knn_params = {\n",
    "    'n_neighbors': range(2, 15),\n",
    "    'weights': ['uniform', 'distance'],\n",
    "    'p': [1, 2]\n",
    "}"
   ]
  },
  {
   "cell_type": "code",
   "execution_count": 44,
   "metadata": {},
   "outputs": [],
   "source": [
    "from sklearn.model_selection import GridSearchCV\n",
    "from sklearn.metrics import classification_report, confusion_matrix, accuracy_score, roc_auc_score, roc_curve, auc\n",
    "from sklearn.metrics import precision_score, recall_score, f1_score\n",
    "from sklearn.metrics import ConfusionMatrixDisplay"
   ]
  },
  {
   "cell_type": "code",
   "execution_count": 46,
   "metadata": {},
   "outputs": [
    {
     "name": "stdout",
     "output_type": "stream",
     "text": [
      "Fitting 5 folds for each of 6 candidates, totalling 30 fits\n"
     ]
    },
    {
     "name": "stderr",
     "output_type": "stream",
     "text": [
      "c:\\Users\\andre\\OneDrive\\Documentos\\Encuesta Integrada de Hogares\\venv\\lib\\site-packages\\sklearn\\linear_model\\_logistic.py:460: ConvergenceWarning: lbfgs failed to converge (status=1):\n",
      "STOP: TOTAL NO. of ITERATIONS REACHED LIMIT.\n",
      "\n",
      "Increase the number of iterations (max_iter) or scale the data as shown in:\n",
      "    https://scikit-learn.org/stable/modules/preprocessing.html\n",
      "Please also refer to the documentation for alternative solver options:\n",
      "    https://scikit-learn.org/stable/modules/linear_model.html#logistic-regression\n",
      "  n_iter_i = _check_optimize_result(\n"
     ]
    },
    {
     "data": {
      "text/plain": [
       "{'C': 10}"
      ]
     },
     "metadata": {},
     "output_type": "display_data"
    },
    {
     "data": {
      "text/plain": [
       "0.5779215560199324"
      ]
     },
     "metadata": {},
     "output_type": "display_data"
    },
    {
     "name": "stdout",
     "output_type": "stream",
     "text": [
      "              precision    recall  f1-score   support\n",
      "\n",
      "           0       0.38      0.59      0.47      7270\n",
      "           1       0.75      0.56      0.64     15553\n",
      "\n",
      "    accuracy                           0.57     22823\n",
      "   macro avg       0.56      0.57      0.55     22823\n",
      "weighted avg       0.63      0.57      0.58     22823\n",
      "\n",
      "Resultados de las métricas de evaluación\n"
     ]
    },
    {
     "ename": "ValueError",
     "evalue": "pos_label=Masculino is not a valid label. It should be one of [0, 1]",
     "output_type": "error",
     "traceback": [
      "\u001b[1;31m---------------------------------------------------------------------------\u001b[0m",
      "\u001b[1;31mValueError\u001b[0m                                Traceback (most recent call last)",
      "\u001b[1;32mc:\\Users\\andre\\OneDrive\\Documentos\\Encuesta Integrada de Hogares\\exploration.ipynb Cell 47\u001b[0m line \u001b[0;36m1\n\u001b[0;32m      <a href='vscode-notebook-cell:/c%3A/Users/andre/OneDrive/Documentos/Encuesta%20Integrada%20de%20Hogares/exploration.ipynb#Y103sZmlsZQ%3D%3D?line=8'>9</a>\u001b[0m \u001b[39mprint\u001b[39m(classification_report(y_test, y_pred))\n\u001b[0;32m     <a href='vscode-notebook-cell:/c%3A/Users/andre/OneDrive/Documentos/Encuesta%20Integrada%20de%20Hogares/exploration.ipynb#Y103sZmlsZQ%3D%3D?line=10'>11</a>\u001b[0m \u001b[39mprint\u001b[39m(\u001b[39m\"\u001b[39m\u001b[39mResultados de las métricas de evaluación\u001b[39m\u001b[39m\"\u001b[39m)\n\u001b[1;32m---> <a href='vscode-notebook-cell:/c%3A/Users/andre/OneDrive/Documentos/Encuesta%20Integrada%20de%20Hogares/exploration.ipynb#Y103sZmlsZQ%3D%3D?line=11'>12</a>\u001b[0m display(pd\u001b[39m.\u001b[39mDataFrame({\u001b[39m'\u001b[39m\u001b[39mPrecision\u001b[39m\u001b[39m'\u001b[39m: precision_score(y_test, y_pred, pos_label\u001b[39m=\u001b[39;49m\u001b[39m'\u001b[39;49m\u001b[39mMasculino\u001b[39;49m\u001b[39m'\u001b[39;49m),\n\u001b[0;32m     <a href='vscode-notebook-cell:/c%3A/Users/andre/OneDrive/Documentos/Encuesta%20Integrada%20de%20Hogares/exploration.ipynb#Y103sZmlsZQ%3D%3D?line=12'>13</a>\u001b[0m                       \u001b[39m'\u001b[39m\u001b[39mRecall\u001b[39m\u001b[39m'\u001b[39m: recall_score(y_test, y_pred, pos_label\u001b[39m=\u001b[39m\u001b[39m'\u001b[39m\u001b[39mMasculino\u001b[39m\u001b[39m'\u001b[39m),\n\u001b[0;32m     <a href='vscode-notebook-cell:/c%3A/Users/andre/OneDrive/Documentos/Encuesta%20Integrada%20de%20Hogares/exploration.ipynb#Y103sZmlsZQ%3D%3D?line=13'>14</a>\u001b[0m                       \u001b[39m'\u001b[39m\u001b[39mF1\u001b[39m\u001b[39m'\u001b[39m: f1_score(y_test, y_pred, pos_label\u001b[39m=\u001b[39m\u001b[39m'\u001b[39m\u001b[39mMasculino\u001b[39m\u001b[39m'\u001b[39m)}, index\u001b[39m=\u001b[39m[\u001b[39m'\u001b[39m\u001b[39mMasculino\u001b[39m\u001b[39m'\u001b[39m]))\n\u001b[0;32m     <a href='vscode-notebook-cell:/c%3A/Users/andre/OneDrive/Documentos/Encuesta%20Integrada%20de%20Hogares/exploration.ipynb#Y103sZmlsZQ%3D%3D?line=15'>16</a>\u001b[0m \u001b[39m# Matriz de Confusión\u001b[39;00m\n\u001b[0;32m     <a href='vscode-notebook-cell:/c%3A/Users/andre/OneDrive/Documentos/Encuesta%20Integrada%20de%20Hogares/exploration.ipynb#Y103sZmlsZQ%3D%3D?line=16'>17</a>\u001b[0m cm \u001b[39m=\u001b[39m confusion_matrix(y_test, y_pred)\n",
      "File \u001b[1;32mc:\\Users\\andre\\OneDrive\\Documentos\\Encuesta Integrada de Hogares\\venv\\lib\\site-packages\\sklearn\\utils\\_param_validation.py:214\u001b[0m, in \u001b[0;36mvalidate_params.<locals>.decorator.<locals>.wrapper\u001b[1;34m(*args, **kwargs)\u001b[0m\n\u001b[0;32m    208\u001b[0m \u001b[39mtry\u001b[39;00m:\n\u001b[0;32m    209\u001b[0m     \u001b[39mwith\u001b[39;00m config_context(\n\u001b[0;32m    210\u001b[0m         skip_parameter_validation\u001b[39m=\u001b[39m(\n\u001b[0;32m    211\u001b[0m             prefer_skip_nested_validation \u001b[39mor\u001b[39;00m global_skip_validation\n\u001b[0;32m    212\u001b[0m         )\n\u001b[0;32m    213\u001b[0m     ):\n\u001b[1;32m--> 214\u001b[0m         \u001b[39mreturn\u001b[39;00m func(\u001b[39m*\u001b[39margs, \u001b[39m*\u001b[39m\u001b[39m*\u001b[39mkwargs)\n\u001b[0;32m    215\u001b[0m \u001b[39mexcept\u001b[39;00m InvalidParameterError \u001b[39mas\u001b[39;00m e:\n\u001b[0;32m    216\u001b[0m     \u001b[39m# When the function is just a wrapper around an estimator, we allow\u001b[39;00m\n\u001b[0;32m    217\u001b[0m     \u001b[39m# the function to delegate validation to the estimator, but we replace\u001b[39;00m\n\u001b[0;32m    218\u001b[0m     \u001b[39m# the name of the estimator by the name of the function in the error\u001b[39;00m\n\u001b[0;32m    219\u001b[0m     \u001b[39m# message to avoid confusion.\u001b[39;00m\n\u001b[0;32m    220\u001b[0m     msg \u001b[39m=\u001b[39m re\u001b[39m.\u001b[39msub(\n\u001b[0;32m    221\u001b[0m         \u001b[39mr\u001b[39m\u001b[39m\"\u001b[39m\u001b[39mparameter of \u001b[39m\u001b[39m\\\u001b[39m\u001b[39mw+ must be\u001b[39m\u001b[39m\"\u001b[39m,\n\u001b[0;32m    222\u001b[0m         \u001b[39mf\u001b[39m\u001b[39m\"\u001b[39m\u001b[39mparameter of \u001b[39m\u001b[39m{\u001b[39;00mfunc\u001b[39m.\u001b[39m\u001b[39m__qualname__\u001b[39m\u001b[39m}\u001b[39;00m\u001b[39m must be\u001b[39m\u001b[39m\"\u001b[39m,\n\u001b[0;32m    223\u001b[0m         \u001b[39mstr\u001b[39m(e),\n\u001b[0;32m    224\u001b[0m     )\n",
      "File \u001b[1;32mc:\\Users\\andre\\OneDrive\\Documentos\\Encuesta Integrada de Hogares\\venv\\lib\\site-packages\\sklearn\\metrics\\_classification.py:2131\u001b[0m, in \u001b[0;36mprecision_score\u001b[1;34m(y_true, y_pred, labels, pos_label, average, sample_weight, zero_division)\u001b[0m\n\u001b[0;32m   1973\u001b[0m \u001b[39m@validate_params\u001b[39m(\n\u001b[0;32m   1974\u001b[0m     {\n\u001b[0;32m   1975\u001b[0m         \u001b[39m\"\u001b[39m\u001b[39my_true\u001b[39m\u001b[39m\"\u001b[39m: [\u001b[39m\"\u001b[39m\u001b[39marray-like\u001b[39m\u001b[39m\"\u001b[39m, \u001b[39m\"\u001b[39m\u001b[39msparse matrix\u001b[39m\u001b[39m\"\u001b[39m],\n\u001b[1;32m   (...)\u001b[0m\n\u001b[0;32m   2000\u001b[0m     zero_division\u001b[39m=\u001b[39m\u001b[39m\"\u001b[39m\u001b[39mwarn\u001b[39m\u001b[39m\"\u001b[39m,\n\u001b[0;32m   2001\u001b[0m ):\n\u001b[0;32m   2002\u001b[0m \u001b[39m    \u001b[39m\u001b[39m\"\"\"Compute the precision.\u001b[39;00m\n\u001b[0;32m   2003\u001b[0m \n\u001b[0;32m   2004\u001b[0m \u001b[39m    The precision is the ratio ``tp / (tp + fp)`` where ``tp`` is the number of\u001b[39;00m\n\u001b[1;32m   (...)\u001b[0m\n\u001b[0;32m   2129\u001b[0m \u001b[39m    array([0.5, 1. , 1. ])\u001b[39;00m\n\u001b[0;32m   2130\u001b[0m \u001b[39m    \"\"\"\u001b[39;00m\n\u001b[1;32m-> 2131\u001b[0m     p, _, _, _ \u001b[39m=\u001b[39m precision_recall_fscore_support(\n\u001b[0;32m   2132\u001b[0m         y_true,\n\u001b[0;32m   2133\u001b[0m         y_pred,\n\u001b[0;32m   2134\u001b[0m         labels\u001b[39m=\u001b[39;49mlabels,\n\u001b[0;32m   2135\u001b[0m         pos_label\u001b[39m=\u001b[39;49mpos_label,\n\u001b[0;32m   2136\u001b[0m         average\u001b[39m=\u001b[39;49maverage,\n\u001b[0;32m   2137\u001b[0m         warn_for\u001b[39m=\u001b[39;49m(\u001b[39m\"\u001b[39;49m\u001b[39mprecision\u001b[39;49m\u001b[39m\"\u001b[39;49m,),\n\u001b[0;32m   2138\u001b[0m         sample_weight\u001b[39m=\u001b[39;49msample_weight,\n\u001b[0;32m   2139\u001b[0m         zero_division\u001b[39m=\u001b[39;49mzero_division,\n\u001b[0;32m   2140\u001b[0m     )\n\u001b[0;32m   2141\u001b[0m     \u001b[39mreturn\u001b[39;00m p\n",
      "File \u001b[1;32mc:\\Users\\andre\\OneDrive\\Documentos\\Encuesta Integrada de Hogares\\venv\\lib\\site-packages\\sklearn\\utils\\_param_validation.py:187\u001b[0m, in \u001b[0;36mvalidate_params.<locals>.decorator.<locals>.wrapper\u001b[1;34m(*args, **kwargs)\u001b[0m\n\u001b[0;32m    185\u001b[0m global_skip_validation \u001b[39m=\u001b[39m get_config()[\u001b[39m\"\u001b[39m\u001b[39mskip_parameter_validation\u001b[39m\u001b[39m\"\u001b[39m]\n\u001b[0;32m    186\u001b[0m \u001b[39mif\u001b[39;00m global_skip_validation:\n\u001b[1;32m--> 187\u001b[0m     \u001b[39mreturn\u001b[39;00m func(\u001b[39m*\u001b[39margs, \u001b[39m*\u001b[39m\u001b[39m*\u001b[39mkwargs)\n\u001b[0;32m    189\u001b[0m func_sig \u001b[39m=\u001b[39m signature(func)\n\u001b[0;32m    191\u001b[0m \u001b[39m# Map *args/**kwargs to the function signature\u001b[39;00m\n",
      "File \u001b[1;32mc:\\Users\\andre\\OneDrive\\Documentos\\Encuesta Integrada de Hogares\\venv\\lib\\site-packages\\sklearn\\metrics\\_classification.py:1724\u001b[0m, in \u001b[0;36mprecision_recall_fscore_support\u001b[1;34m(y_true, y_pred, beta, labels, pos_label, average, warn_for, sample_weight, zero_division)\u001b[0m\n\u001b[0;32m   1566\u001b[0m \u001b[39m\u001b[39m\u001b[39m\"\"\"Compute precision, recall, F-measure and support for each class.\u001b[39;00m\n\u001b[0;32m   1567\u001b[0m \n\u001b[0;32m   1568\u001b[0m \u001b[39mThe precision is the ratio ``tp / (tp + fp)`` where ``tp`` is the number of\u001b[39;00m\n\u001b[1;32m   (...)\u001b[0m\n\u001b[0;32m   1721\u001b[0m \u001b[39m array([2, 2, 2]))\u001b[39;00m\n\u001b[0;32m   1722\u001b[0m \u001b[39m\"\"\"\u001b[39;00m\n\u001b[0;32m   1723\u001b[0m zero_division_value \u001b[39m=\u001b[39m _check_zero_division(zero_division)\n\u001b[1;32m-> 1724\u001b[0m labels \u001b[39m=\u001b[39m _check_set_wise_labels(y_true, y_pred, average, labels, pos_label)\n\u001b[0;32m   1726\u001b[0m \u001b[39m# Calculate tp_sum, pred_sum, true_sum ###\u001b[39;00m\n\u001b[0;32m   1727\u001b[0m samplewise \u001b[39m=\u001b[39m average \u001b[39m==\u001b[39m \u001b[39m\"\u001b[39m\u001b[39msamples\u001b[39m\u001b[39m\"\u001b[39m\n",
      "File \u001b[1;32mc:\\Users\\andre\\OneDrive\\Documentos\\Encuesta Integrada de Hogares\\venv\\lib\\site-packages\\sklearn\\metrics\\_classification.py:1509\u001b[0m, in \u001b[0;36m_check_set_wise_labels\u001b[1;34m(y_true, y_pred, average, labels, pos_label)\u001b[0m\n\u001b[0;32m   1507\u001b[0m     \u001b[39mif\u001b[39;00m pos_label \u001b[39mnot\u001b[39;00m \u001b[39min\u001b[39;00m present_labels:\n\u001b[0;32m   1508\u001b[0m         \u001b[39mif\u001b[39;00m \u001b[39mlen\u001b[39m(present_labels) \u001b[39m>\u001b[39m\u001b[39m=\u001b[39m \u001b[39m2\u001b[39m:\n\u001b[1;32m-> 1509\u001b[0m             \u001b[39mraise\u001b[39;00m \u001b[39mValueError\u001b[39;00m(\n\u001b[0;32m   1510\u001b[0m                 \u001b[39mf\u001b[39m\u001b[39m\"\u001b[39m\u001b[39mpos_label=\u001b[39m\u001b[39m{\u001b[39;00mpos_label\u001b[39m}\u001b[39;00m\u001b[39m is not a valid label. It \u001b[39m\u001b[39m\"\u001b[39m\n\u001b[0;32m   1511\u001b[0m                 \u001b[39mf\u001b[39m\u001b[39m\"\u001b[39m\u001b[39mshould be one of \u001b[39m\u001b[39m{\u001b[39;00mpresent_labels\u001b[39m}\u001b[39;00m\u001b[39m\"\u001b[39m\n\u001b[0;32m   1512\u001b[0m             )\n\u001b[0;32m   1513\u001b[0m     labels \u001b[39m=\u001b[39m [pos_label]\n\u001b[0;32m   1514\u001b[0m \u001b[39melse\u001b[39;00m:\n",
      "\u001b[1;31mValueError\u001b[0m: pos_label=Masculino is not a valid label. It should be one of [0, 1]"
     ]
    }
   ],
   "source": [
    "# Evaluación modelo logístico\n",
    "\n",
    "modelo_logistico = GridSearchCV(logistic_model, logistic_params, cv=5, scoring='accuracy', verbose=5, n_jobs=-1)\n",
    "modelo_logistico.fit(X_train_preprocessed_smote, y_train_smote)\n",
    "display(modelo_logistico.best_params_)\n",
    "display(modelo_logistico.best_score_)\n",
    "\n",
    "y_pred = modelo_logistico.predict(X_test_preprocessed)\n",
    "print(classification_report(y_test, y_pred))\n",
    "\n",
    "print(\"Resultados de las métricas de evaluación\")\n",
    "print(\"Accuracy:\", accuracy_score(y_test, y_pred))\n",
    "print(\"Precision:\", precision_score(y_test, y_pred, average='macro'))\n",
    "print(\"Recall:\", recall_score(y_test, y_pred, average='macro'))\n",
    "print(\"F1:\", f1_score(y_test, y_pred, average='macro'))\n",
    "\n",
    "# Matriz de Confusión\n",
    "cm = confusion_matrix(y_test, y_pred)\n",
    "fig, ax = plt.subplots(figsize=(5, 5))\n",
    "ConfusionMatrixDisplay.from_predictions(y_test, y_pred, ax=ax, colorbar=False)\n",
    "plt.title('Matriz de Confusión')\n",
    "plt.show()\n",
    "\n",
    "\n",
    "fpr, tpr, thresholds = roc_curve(y_test, y_pred)\n",
    "roc_auc = auc(fpr, tpr)\n",
    "plt.figure()\n",
    "plt.plot(fpr, tpr, label = \"Modelo\" + ' (AUC = {:.4f})'.format(roc_auc))\n",
    "plt.legend(loc = 'lower right')\n",
    "plt.plot([0, 1], [0, 1],'r--')\n",
    "plt.title('Curva ROC')\n",
    "plt.ylabel('Tasa de Verdaderos Positivos')\n",
    "plt.xlabel('Tasa de Falsos Positivos')\n",
    "plt.show()"
   ]
  },
  {
   "cell_type": "code",
   "execution_count": null,
   "metadata": {},
   "outputs": [
    {
     "name": "stdout",
     "output_type": "stream",
     "text": [
      "Fitting 5 folds for each of 208 candidates, totalling 1040 fits\n"
     ]
    },
    {
     "data": {
      "text/plain": [
       "{'criterion': 'gini', 'max_depth': 13, 'min_samples_split': 2}"
      ]
     },
     "metadata": {},
     "output_type": "display_data"
    },
    {
     "data": {
      "text/plain": [
       "0.5919064459090179"
      ]
     },
     "metadata": {},
     "output_type": "display_data"
    },
    {
     "name": "stdout",
     "output_type": "stream",
     "text": [
      "              precision    recall  f1-score   support\n",
      "\n",
      "           0       0.38      0.70      0.49      7270\n",
      "           1       0.76      0.46      0.58     15553\n",
      "\n",
      "    accuracy                           0.54     22823\n",
      "   macro avg       0.57      0.58      0.53     22823\n",
      "weighted avg       0.64      0.54      0.55     22823\n",
      "\n"
     ]
    },
    {
     "data": {
      "image/png": "[encoded data removed]",
      "text/plain": [
       "<Figure size 500x500 with 1 Axes>"
      ]
     },
     "metadata": {},
     "output_type": "display_data"
    },
    {
     "data": {
      "image/png": "[encoded data removed]",
      "text/plain": [
       "<Figure size 640x480 with 1 Axes>"
      ]
     },
     "metadata": {},
     "output_type": "display_data"
    }
   ],
   "source": [
    "# Evaluación modelo árbol de decisión\n",
    "\n",
    "modelo_tree = GridSearchCV(tree_model, tree_params, cv=5, scoring='accuracy', verbose=5, n_jobs=-1)\n",
    "modelo_tree.fit(X_train_preprocessed_smote, y_train_smote)\n",
    "display(modelo_tree.best_params_)\n",
    "display(modelo_tree.best_score_)\n",
    "\n",
    "y_pred = modelo_tree.predict(X_test_preprocessed)\n",
    "print(classification_report(y_test, y_pred))\n",
    "\n",
    "print(\"Resultados de las métricas de evaluación\")\n",
    "display(pd.DataFrame({'Precision': precision_score(y_test, y_pred, pos_label='Masculino'),\n",
    "                      'Recall': recall_score(y_test, y_pred, pos_label='Masculino'),\n",
    "                      'F1': f1_score(y_test, y_pred, pos_label='Masculino')}, index=['Masculino']))\n",
    "# Matriz de Confusión\n",
    "cm = confusion_matrix(y_test, y_pred)\n",
    "fig, ax = plt.subplots(figsize=(5, 5))\n",
    "ConfusionMatrixDisplay.from_predictions(y_test, y_pred, ax=ax, colorbar=False)\n",
    "plt.title('Matriz de Confusión')\n",
    "plt.show()\n",
    "\n",
    "# Curva ROC\n",
    "fpr, tpr, thresholds = roc_curve(y_test, y_pred)\n",
    "roc_auc = auc(fpr, tpr)\n",
    "plt.figure()\n",
    "plt.plot(fpr, tpr, label = \"Modelo\" + ' (AUC = {:.4f})'.format(roc_auc))\n",
    "plt.legend(loc = 'lower right')\n",
    "plt.plot([0, 1], [0, 1],'r--')\n",
    "plt.title('Curva ROC')\n",
    "plt.ylabel('Tasa de Verdaderos Positivos')\n",
    "plt.xlabel('Tasa de Falsos Positivos')\n",
    "plt.show()"
   ]
  },
  {
   "cell_type": "code",
   "execution_count": null,
   "metadata": {},
   "outputs": [
    {
     "name": "stdout",
     "output_type": "stream",
     "text": [
      "Fitting 5 folds for each of 52 candidates, totalling 260 fits\n"
     ]
    }
   ],
   "source": [
    "# Evaluación modelo KNN\n",
    "\n",
    "modelo_knn = GridSearchCV(knn_model, knn_params, cv=5, scoring='accuracy', verbose=5, n_jobs=-1)\n",
    "modelo_knn.fit(X_train_preprocessed_smote, y_train_smote)\n",
    "display(modelo_knn.best_params_)\n",
    "display(modelo_knn.best_score_)\n",
    "\n",
    "y_pred = modelo_knn.predict(X_test_preprocessed)\n",
    "print(classification_report(y_test, y_pred))\n",
    "\n",
    "print(\"Resultados de las métricas de evaluación\")\n",
    "display(pd.DataFrame({'Precision': precision_score(y_test, y_pred, pos_label='Masculino'),\n",
    "                      'Recall': recall_score(y_test, y_pred, pos_label='Masculino'),\n",
    "                      'F1': f1_score(y_test, y_pred, pos_label='Masculino')}, index=['Masculino']))\n",
    "\n",
    "# Matriz de Confusión\n",
    "cm = confusion_matrix(y_test, y_pred)\n",
    "fig, ax = plt.subplots(figsize=(5, 5))\n",
    "ConfusionMatrixDisplay.from_predictions(y_test, y_pred, ax=ax, colorbar=False)\n",
    "plt.title('Matriz de Confusión')\n",
    "plt.show()\n",
    "\n",
    "\n",
    "# Curva ROC\n",
    "fpr, tpr, thresholds = roc_curve(y_test, y_pred)\n",
    "roc_auc = auc(fpr, tpr)\n",
    "plt.figure()\n",
    "plt.plot(fpr, tpr, label = \"Modelo\" + ' (AUC = {:.4f})'.format(roc_auc))\n",
    "plt.legend(loc = 'lower right')\n",
    "plt.plot([0, 1], [0, 1],'r--')\n",
    "plt.title('Curva ROC')\n",
    "plt.ylabel('Tasa de Verdaderos Positivos')\n",
    "plt.xlabel('Tasa de Falsos Positivos')\n",
    "plt.show()"
   ]
  },
  {
   "cell_type": "code",
   "execution_count": null,
   "metadata": {},
   "outputs": [],
   "source": [
    "from joblib import dump\n",
    "\n",
    "dump(modelo_logistico.best_estimator_, 'models\\modelo_logistico.joblib') \n",
    "dump(modelo_tree.best_estimator_, 'models\\modelo_tree.joblib') \n",
    "\n",
    "dump(preprocessor, 'models\\preprocessor.joblib') "
   ]
  }
 ],
 "metadata": {
  "kernelspec": {
   "display_name": "venv",
   "language": "python",
   "name": "python3"
  },
  "language_info": {
   "codemirror_mode": {
    "name": "ipython",
    "version": 3
   },
   "file_extension": ".py",
   "mimetype": "text/x-python",
   "name": "python",
   "nbconvert_exporter": "python",
   "pygments_lexer": "ipython3",
   "version": "3.10.6"
  }
 },
 "nbformat": 4,
 "nbformat_minor": 2
}
