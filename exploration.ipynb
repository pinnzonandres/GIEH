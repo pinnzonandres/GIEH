{
 "cells": [
  {
   "cell_type": "code",
   "execution_count": 314,
   "metadata": {},
   "outputs": [],
   "source": [
    "import pandas as pd\n",
    "import numpy as np\n",
    "import matplotlib.pyplot as plt\n",
    "import seaborn as sns\n",
    "from create_data.read_data import process_data"
   ]
  },
  {
   "cell_type": "code",
   "execution_count": 315,
   "metadata": {},
   "outputs": [],
   "source": [
    "data = pd.read_csv(r\"C:\\Users\\andre\\OneDrive\\Documentos\\Encuesta Integrada de Hogares\\data\\data\\01_Enero\\CSV\\Características generales, seguridad social en salud y educación.CSV\",\n",
    "                   encoding='latin-1', sep=';')"
   ]
  },
  {
   "cell_type": "code",
   "execution_count": 316,
   "metadata": {},
   "outputs": [],
   "source": [
    "import pandas as pd\n",
    "from create_data.read_data import process_data\n",
    "\n",
    "def run_process_data():\n",
    "    meses = ['01_Enero','02_Febrero','03_Marzo','04_Abril','05_Mayo','06_Junio','07_Julio','08_Agosto','09_Septiembre']\n",
    "    results = []\n",
    "    for month_str in meses:\n",
    "        result = process_data(month_str)\n",
    "        results.append(result)\n",
    "    concatenated_result = pd.concat(results, ignore_index=True)\n",
    "    return concatenated_result\n"
   ]
  },
  {
   "cell_type": "code",
   "execution_count": 317,
   "metadata": {},
   "outputs": [],
   "source": [
    "data = run_process_data()"
   ]
  },
  {
   "cell_type": "code",
   "execution_count": 318,
   "metadata": {},
   "outputs": [
    {
     "data": {
      "text/html": [
       "<div>\n",
       "<style scoped>\n",
       "    .dataframe tbody tr th:only-of-type {\n",
       "        vertical-align: middle;\n",
       "    }\n",
       "\n",
       "    .dataframe tbody tr th {\n",
       "        vertical-align: top;\n",
       "    }\n",
       "\n",
       "    .dataframe thead th {\n",
       "        text-align: right;\n",
       "    }\n",
       "</style>\n",
       "<table border=\"1\" class=\"dataframe\">\n",
       "  <thead>\n",
       "    <tr style=\"text-align: right;\">\n",
       "      <th></th>\n",
       "      <th>DIRECTORIO</th>\n",
       "      <th>SECUENCIA_P</th>\n",
       "      <th>ORDEN</th>\n",
       "      <th>PT</th>\n",
       "      <th>POB_MAY18</th>\n",
       "      <th>P3271</th>\n",
       "      <th>P6040</th>\n",
       "      <th>P6050</th>\n",
       "      <th>P6083</th>\n",
       "      <th>P6081</th>\n",
       "      <th>...</th>\n",
       "      <th>P5222S7</th>\n",
       "      <th>P5222S8</th>\n",
       "      <th>P5222S8A1</th>\n",
       "      <th>P5222S9</th>\n",
       "      <th>P5222S10</th>\n",
       "      <th>P6008</th>\n",
       "      <th>DPTO</th>\n",
       "      <th>AREA</th>\n",
       "      <th>CLASE</th>\n",
       "      <th>Occupation_Status</th>\n",
       "    </tr>\n",
       "  </thead>\n",
       "  <tbody>\n",
       "    <tr>\n",
       "      <th>0</th>\n",
       "      <td>7309060</td>\n",
       "      <td>1</td>\n",
       "      <td>2</td>\n",
       "      <td>1</td>\n",
       "      <td>1.0</td>\n",
       "      <td>1</td>\n",
       "      <td>27</td>\n",
       "      <td>2</td>\n",
       "      <td>2</td>\n",
       "      <td>2</td>\n",
       "      <td>...</td>\n",
       "      <td>NaN</td>\n",
       "      <td>NaN</td>\n",
       "      <td>NaN</td>\n",
       "      <td>NaN</td>\n",
       "      <td>NaN</td>\n",
       "      <td>3</td>\n",
       "      <td>25</td>\n",
       "      <td>NaN</td>\n",
       "      <td>1</td>\n",
       "      <td>0</td>\n",
       "    </tr>\n",
       "    <tr>\n",
       "      <th>1</th>\n",
       "      <td>7309064</td>\n",
       "      <td>1</td>\n",
       "      <td>3</td>\n",
       "      <td>1</td>\n",
       "      <td>1.0</td>\n",
       "      <td>1</td>\n",
       "      <td>18</td>\n",
       "      <td>3</td>\n",
       "      <td>1</td>\n",
       "      <td>2</td>\n",
       "      <td>...</td>\n",
       "      <td>NaN</td>\n",
       "      <td>NaN</td>\n",
       "      <td>NaN</td>\n",
       "      <td>NaN</td>\n",
       "      <td>NaN</td>\n",
       "      <td>5</td>\n",
       "      <td>66</td>\n",
       "      <td>NaN</td>\n",
       "      <td>2</td>\n",
       "      <td>0</td>\n",
       "    </tr>\n",
       "    <tr>\n",
       "      <th>2</th>\n",
       "      <td>7309067</td>\n",
       "      <td>1</td>\n",
       "      <td>2</td>\n",
       "      <td>1</td>\n",
       "      <td>1.0</td>\n",
       "      <td>2</td>\n",
       "      <td>25</td>\n",
       "      <td>3</td>\n",
       "      <td>2</td>\n",
       "      <td>1</td>\n",
       "      <td>...</td>\n",
       "      <td>NaN</td>\n",
       "      <td>NaN</td>\n",
       "      <td>NaN</td>\n",
       "      <td>NaN</td>\n",
       "      <td>NaN</td>\n",
       "      <td>2</td>\n",
       "      <td>66</td>\n",
       "      <td>NaN</td>\n",
       "      <td>2</td>\n",
       "      <td>0</td>\n",
       "    </tr>\n",
       "    <tr>\n",
       "      <th>3</th>\n",
       "      <td>7309071</td>\n",
       "      <td>1</td>\n",
       "      <td>2</td>\n",
       "      <td>1</td>\n",
       "      <td>1.0</td>\n",
       "      <td>2</td>\n",
       "      <td>28</td>\n",
       "      <td>2</td>\n",
       "      <td>2</td>\n",
       "      <td>2</td>\n",
       "      <td>...</td>\n",
       "      <td>NaN</td>\n",
       "      <td>NaN</td>\n",
       "      <td>NaN</td>\n",
       "      <td>NaN</td>\n",
       "      <td>NaN</td>\n",
       "      <td>3</td>\n",
       "      <td>66</td>\n",
       "      <td>NaN</td>\n",
       "      <td>2</td>\n",
       "      <td>0</td>\n",
       "    </tr>\n",
       "    <tr>\n",
       "      <th>4</th>\n",
       "      <td>7309073</td>\n",
       "      <td>1</td>\n",
       "      <td>3</td>\n",
       "      <td>1</td>\n",
       "      <td>1.0</td>\n",
       "      <td>2</td>\n",
       "      <td>27</td>\n",
       "      <td>3</td>\n",
       "      <td>1</td>\n",
       "      <td>2</td>\n",
       "      <td>...</td>\n",
       "      <td>NaN</td>\n",
       "      <td>NaN</td>\n",
       "      <td>NaN</td>\n",
       "      <td>NaN</td>\n",
       "      <td>NaN</td>\n",
       "      <td>6</td>\n",
       "      <td>66</td>\n",
       "      <td>NaN</td>\n",
       "      <td>2</td>\n",
       "      <td>0</td>\n",
       "    </tr>\n",
       "  </tbody>\n",
       "</table>\n",
       "<p>5 rows × 49 columns</p>\n",
       "</div>"
      ],
      "text/plain": [
       "   DIRECTORIO  SECUENCIA_P  ORDEN  PT  POB_MAY18  P3271  P6040  P6050  P6083  \\\n",
       "0     7309060            1      2   1        1.0      1     27      2      2   \n",
       "1     7309064            1      3   1        1.0      1     18      3      1   \n",
       "2     7309067            1      2   1        1.0      2     25      3      2   \n",
       "3     7309071            1      2   1        1.0      2     28      2      2   \n",
       "4     7309073            1      3   1        1.0      2     27      3      1   \n",
       "\n",
       "   P6081  ...  P5222S7  P5222S8  P5222S8A1  P5222S9  P5222S10  P6008  DPTO  \\\n",
       "0      2  ...      NaN      NaN        NaN      NaN       NaN      3    25   \n",
       "1      2  ...      NaN      NaN        NaN      NaN       NaN      5    66   \n",
       "2      1  ...      NaN      NaN        NaN      NaN       NaN      2    66   \n",
       "3      2  ...      NaN      NaN        NaN      NaN       NaN      3    66   \n",
       "4      2  ...      NaN      NaN        NaN      NaN       NaN      6    66   \n",
       "\n",
       "   AREA  CLASE  Occupation_Status  \n",
       "0   NaN      1                  0  \n",
       "1   NaN      2                  0  \n",
       "2   NaN      2                  0  \n",
       "3   NaN      2                  0  \n",
       "4   NaN      2                  0  \n",
       "\n",
       "[5 rows x 49 columns]"
      ]
     },
     "execution_count": 318,
     "metadata": {},
     "output_type": "execute_result"
    }
   ],
   "source": [
    "data.head()"
   ]
  },
  {
   "cell_type": "code",
   "execution_count": 319,
   "metadata": {},
   "outputs": [
    {
     "data": {
      "text/plain": [
       "(114113, 49)"
      ]
     },
     "execution_count": 319,
     "metadata": {},
     "output_type": "execute_result"
    }
   ],
   "source": [
    "data.shape"
   ]
  },
  {
   "cell_type": "code",
   "execution_count": 320,
   "metadata": {},
   "outputs": [
    {
     "data": {
      "text/plain": [
       "Occupation_Status\n",
       "1    77763\n",
       "0    36350\n",
       "Name: count, dtype: int64"
      ]
     },
     "execution_count": 320,
     "metadata": {},
     "output_type": "execute_result"
    }
   ],
   "source": [
    "data['Occupation_Status'].value_counts()"
   ]
  },
  {
   "cell_type": "code",
   "execution_count": 321,
   "metadata": {},
   "outputs": [],
   "source": [
    "def replace_values(df, column, mapping):\n",
    "    df[column] = df[column].replace(mapping)\n",
    "    return df\n"
   ]
  },
  {
   "cell_type": "code",
   "execution_count": 322,
   "metadata": {},
   "outputs": [],
   "source": [
    "## Cambios de valor codificado\n",
    "cambios ={\n",
    "'P3271': {1: 'Masculino', 2: 'Femenino'},\n",
    "'P6050': {1: 'Jefe del Hogar', 2: 'Pareja, esposo(a), conyugue, compañero(a)',\n",
    "                 3: 'Hijo(a), hijastro(a)', 4: 'Padre o madre',5:'Suegro(a)',\n",
    "                 6: 'Hermano(a), hermanastro(a)', 7: 'Yerno o nuera', 8: 'Nieto', 9: 'Otro pariente',\n",
    "                 10: 'Empleado(a) del servicio doméstico y sus parientes',\n",
    "                 11: 'Pensionista', 12: 'Trabajador', 13: 'Otro no pariente'},\n",
    "'P6083': {1: 'Si', 2: 'No', 3: 'Fallecida'},\n",
    "'P6081': {1: 'Si', 2: 'No', 3: 'Fallecido'},\n",
    "'P2057': {1: 'Si', 2: 'No', 9: 'No informa'},\n",
    "'P2059': {1: 'Si', 2: 'No', 9: 'No informa'},\n",
    "'P2061': {1: 'Si', 2: 'No', 9: 'No informa'},\n",
    "'P6080': {1: 'Indígena', 2: 'Gitano (ROM)', 3: 'Raizal del Archipiélago',\n",
    "                  4: 'Palenquero', 5: 'Negro, mulato (afrodescendiente)',\n",
    "                  6: 'Ninguno de los anteriores'},\n",
    "'P6070': {1: \"No esta casado(a) y vive en pareja  hace  menos de dos años\",\n",
    "                  2: \"No esta  casado (a)  y vive en pareja   hace dos años  o más\",\n",
    "                  3: \"Esta casado (a)\",\n",
    "                  4: \"Esta separado (a) o divorciado (a)\",\n",
    "                  5: \"Esta viudo (a)\",\n",
    "                  6: \"Esta soltero (a)\"},\n",
    "'P6160': {1: \"Si\", 2: 'No'},\n",
    "'P6170': {1: \"Si\", 2: 'No'},\n",
    "'P3042': {1: 'Ninguno',\n",
    "          2: 'Preescolar ',\n",
    "          3: 'Básica primaria (1o - 5o)',\n",
    "          4: 'Básica secundaria (6o - 9o)',\n",
    "          5: 'Media académica (Bachillerato clásico)',\n",
    "          6: 'Media técnica (Bachillerato técnico)',\n",
    "          7: 'Normalista',\n",
    "          8: 'Técnica profesional',\n",
    "          9: 'Tecnológica ',\n",
    "          10: 'Universitaria',\n",
    "          11: 'Especialización ',\n",
    "          12: 'Maestría ',\n",
    "          13: 'Doctorado ',\n",
    "          99: 'No sabe, no informa'},\n",
    "'P3039': {1: 'Hombre',\n",
    "          2: 'Mujer',\n",
    "          3: 'Hombre trans',\n",
    "          4: 'Mujer trans',\n",
    "          5: 'Otro'},\n",
    "'P4000':{1: 'Casa',\n",
    "         2: 'Apartamento',\n",
    "         3: 'Cuarto (s) en inquilinato',\n",
    "         4: 'Cuarto (s) en otro  tipo de estructura',\n",
    "         5: 'Vivienda indígena',\n",
    "         6: 'Otra vivienda (carpa,  vagón, embarcación, cueva, refugio natural, etc.)'},\n",
    "'P4030S1': {1: \"Si\", 2: 'No'},\n",
    "'P4030S2': {1: \"Si\", 2: 'No'},\n",
    "'P4030S3': {1: \"Si\", 2: 'No'},\n",
    "'P4030S4': {1: \"Si\", 2: 'No'},\n",
    "'P4030S5': {1: \"Si\", 2: 'No'},\n",
    "'DPTO': {5: 'ANTIOQUIA',\n",
    "         8: 'ATLANTICO',\n",
    "         11: 'BOGOTA',\n",
    "         13: 'BOLIVAR',\n",
    "         15: 'BOYACA',\n",
    "         17: 'CALDAS',\n",
    "         18: 'CAQUETA',\n",
    "         19: 'CAUCA',\n",
    "         20: 'CESAR',\n",
    "         23: 'CORDOBA',\n",
    "         25: 'CUNDINAMARCA',\n",
    "         27: 'CHOCO',\n",
    "         41: 'HUILA',\n",
    "         44: 'LA GUAJIRA',\n",
    "         47: 'MAGDALENA',\n",
    "         50: 'META',\n",
    "         52: 'NARIÑO',\n",
    "         54: 'NORTE DE SANTANDER',\n",
    "         63: 'QUINDIO',\n",
    "         66: 'RISALRALDA',\n",
    "         68: 'SANTANDER',\n",
    "         70: 'SUCRE',\n",
    "         73: 'TOLIMA',\n",
    "         76: 'VALLE',\n",
    "         81: 'ARAUCA',\n",
    "         85: 'CASANARE',\n",
    "         86: 'PUTUMAYO',\n",
    "         88: 'SAN ANDRES',\n",
    "         91: 'AMAZONAS',\n",
    "         94: 'GUAINIA',\n",
    "         95: 'GUAVIARE',\n",
    "         97: 'VAUPES',\n",
    "         99: 'VICHADA'},\n",
    "'CLASE': {1: 'Cabecera', 2: 'Resto'}\n",
    "}"
   ]
  },
  {
   "cell_type": "code",
   "execution_count": 323,
   "metadata": {},
   "outputs": [],
   "source": [
    "for col in cambios.keys():\n",
    "    data = replace_values(data, col, cambios[col])"
   ]
  },
  {
   "cell_type": "code",
   "execution_count": 324,
   "metadata": {},
   "outputs": [],
   "source": [
    "data.columns = ['DIRECTORIO','SECUENCIA_P','ORDEN','PT','POB_MAY18','SEXO_PERSONA','EDAD','PARENTESCO','MADRE_RESIDE_HOGAR','PADRE_RESIDE_HOGAR',\n",
    "                'ES_CAMPESINO','ALGUNA_VEZ_CAMPESINO','VIVE_COMUNIDAD_CAMPESINA','ETNIA','ESTADO_CIVIL','SABE_LEER_Y_ESCRIBIR','SE_ENCUENTRA_ESTUDIANDO',\n",
    "                'INSTITUCION','MAYOR_NIVEL_EDUCATIVO_ALCANZADO','MAYOR_CURSO_ALCANZADO','MAYOR_GRADO_ALCANZADO','ULTIMO_DIPLOMA_RECIBIDO','EN_QUE_RECIBIO_DIPLOMA',\n",
    "                'IDENTIDAD_GENERO','PERIODO','HOGAR','TIPO_DE_VIVIENDA','ENERGIA_ELECTRICA','ESTRATO_TARIFA_ENERGIA_ELECTRICA','GAS_NATURAL','ALCANTARILLADO',\n",
    "                'RECOLECCION_DE_BASURAS','ACUEDUCTO','P5222S1','P5222S2', 'P5222S3', 'P5222S4', 'P5222S5', 'P5222S6', 'P5222S7','P5222S8',\n",
    "                'P5222S8A1', 'P5222S9', 'P5222S10','NUM_PERSONAS_HOGAR','DPTO','AREA','ZONA','Occupation_Status']"
   ]
  },
  {
   "cell_type": "code",
   "execution_count": 325,
   "metadata": {},
   "outputs": [],
   "source": [
    "# Calculate the percentage of missing values in each column\n",
    "missing_percentage = data.isnull().mean() * 100\n",
    "\n",
    "# Get the columns with missing values greater than or equal to 1%\n",
    "columns_to_drop = missing_percentage[missing_percentage >= 1].index\n",
    "\n",
    "# Drop the columns from the dataframe\n",
    "data = data.drop(columns=columns_to_drop)"
   ]
  },
  {
   "cell_type": "code",
   "execution_count": 326,
   "metadata": {},
   "outputs": [
    {
     "data": {
      "text/plain": [
       "(114113, 32)"
      ]
     },
     "execution_count": 326,
     "metadata": {},
     "output_type": "execute_result"
    }
   ],
   "source": [
    "data.shape"
   ]
  },
  {
   "cell_type": "code",
   "execution_count": 327,
   "metadata": {},
   "outputs": [
    {
     "data": {
      "text/plain": [
       "Index(['DIRECTORIO', 'SECUENCIA_P', 'ORDEN', 'PT', 'POB_MAY18', 'SEXO_PERSONA',\n",
       "       'EDAD', 'PARENTESCO', 'MADRE_RESIDE_HOGAR', 'PADRE_RESIDE_HOGAR',\n",
       "       'ES_CAMPESINO', 'VIVE_COMUNIDAD_CAMPESINA', 'ETNIA', 'ESTADO_CIVIL',\n",
       "       'SABE_LEER_Y_ESCRIBIR', 'SE_ENCUENTRA_ESTUDIANDO',\n",
       "       'MAYOR_NIVEL_EDUCATIVO_ALCANZADO', 'MAYOR_CURSO_ALCANZADO',\n",
       "       'IDENTIDAD_GENERO', 'PERIODO', 'HOGAR', 'TIPO_DE_VIVIENDA',\n",
       "       'ENERGIA_ELECTRICA', 'ESTRATO_TARIFA_ENERGIA_ELECTRICA', 'GAS_NATURAL',\n",
       "       'ALCANTARILLADO', 'RECOLECCION_DE_BASURAS', 'ACUEDUCTO',\n",
       "       'NUM_PERSONAS_HOGAR', 'DPTO', 'ZONA', 'Occupation_Status'],\n",
       "      dtype='object')"
      ]
     },
     "execution_count": 327,
     "metadata": {},
     "output_type": "execute_result"
    }
   ],
   "source": [
    "data.columns"
   ]
  },
  {
   "cell_type": "code",
   "execution_count": 328,
   "metadata": {},
   "outputs": [],
   "source": [
    "data_analisis = data.drop(columns=['PERIODO','DIRECTORIO','SECUENCIA_P','ORDEN','PT','POB_MAY18','HOGAR'])"
   ]
  },
  {
   "cell_type": "code",
   "execution_count": 329,
   "metadata": {},
   "outputs": [
    {
     "data": {
      "text/plain": [
       "Index(['SEXO_PERSONA', 'EDAD', 'PARENTESCO', 'MADRE_RESIDE_HOGAR',\n",
       "       'PADRE_RESIDE_HOGAR', 'ES_CAMPESINO', 'VIVE_COMUNIDAD_CAMPESINA',\n",
       "       'ETNIA', 'ESTADO_CIVIL', 'SABE_LEER_Y_ESCRIBIR',\n",
       "       'SE_ENCUENTRA_ESTUDIANDO', 'MAYOR_NIVEL_EDUCATIVO_ALCANZADO',\n",
       "       'MAYOR_CURSO_ALCANZADO', 'IDENTIDAD_GENERO', 'TIPO_DE_VIVIENDA',\n",
       "       'ENERGIA_ELECTRICA', 'ESTRATO_TARIFA_ENERGIA_ELECTRICA', 'GAS_NATURAL',\n",
       "       'ALCANTARILLADO', 'RECOLECCION_DE_BASURAS', 'ACUEDUCTO',\n",
       "       'NUM_PERSONAS_HOGAR', 'DPTO', 'ZONA', 'Occupation_Status'],\n",
       "      dtype='object')"
      ]
     },
     "execution_count": 329,
     "metadata": {},
     "output_type": "execute_result"
    }
   ],
   "source": [
    "data_analisis.columns"
   ]
  },
  {
   "cell_type": "code",
   "execution_count": 330,
   "metadata": {},
   "outputs": [
    {
     "data": {
      "text/html": [
       "<div>\n",
       "<style scoped>\n",
       "    .dataframe tbody tr th:only-of-type {\n",
       "        vertical-align: middle;\n",
       "    }\n",
       "\n",
       "    .dataframe tbody tr th {\n",
       "        vertical-align: top;\n",
       "    }\n",
       "\n",
       "    .dataframe thead th {\n",
       "        text-align: right;\n",
       "    }\n",
       "</style>\n",
       "<table border=\"1\" class=\"dataframe\">\n",
       "  <thead>\n",
       "    <tr style=\"text-align: right;\">\n",
       "      <th></th>\n",
       "      <th>SEXO_PERSONA</th>\n",
       "      <th>EDAD</th>\n",
       "      <th>PARENTESCO</th>\n",
       "      <th>MADRE_RESIDE_HOGAR</th>\n",
       "      <th>PADRE_RESIDE_HOGAR</th>\n",
       "      <th>ES_CAMPESINO</th>\n",
       "      <th>VIVE_COMUNIDAD_CAMPESINA</th>\n",
       "      <th>ETNIA</th>\n",
       "      <th>ESTADO_CIVIL</th>\n",
       "      <th>SABE_LEER_Y_ESCRIBIR</th>\n",
       "      <th>...</th>\n",
       "      <th>ENERGIA_ELECTRICA</th>\n",
       "      <th>ESTRATO_TARIFA_ENERGIA_ELECTRICA</th>\n",
       "      <th>GAS_NATURAL</th>\n",
       "      <th>ALCANTARILLADO</th>\n",
       "      <th>RECOLECCION_DE_BASURAS</th>\n",
       "      <th>ACUEDUCTO</th>\n",
       "      <th>NUM_PERSONAS_HOGAR</th>\n",
       "      <th>DPTO</th>\n",
       "      <th>ZONA</th>\n",
       "      <th>Occupation_Status</th>\n",
       "    </tr>\n",
       "  </thead>\n",
       "  <tbody>\n",
       "    <tr>\n",
       "      <th>0</th>\n",
       "      <td>Masculino</td>\n",
       "      <td>27</td>\n",
       "      <td>Pareja, esposo(a), conyugue, compañero(a)</td>\n",
       "      <td>No</td>\n",
       "      <td>No</td>\n",
       "      <td>Si</td>\n",
       "      <td>Si</td>\n",
       "      <td>Ninguno de los anteriores</td>\n",
       "      <td>No esta  casado (a)  y vive en pareja   hace d...</td>\n",
       "      <td>Si</td>\n",
       "      <td>...</td>\n",
       "      <td>Si</td>\n",
       "      <td>2.0</td>\n",
       "      <td>No</td>\n",
       "      <td>Si</td>\n",
       "      <td>Si</td>\n",
       "      <td>Si</td>\n",
       "      <td>3</td>\n",
       "      <td>CUNDINAMARCA</td>\n",
       "      <td>Cabecera</td>\n",
       "      <td>0</td>\n",
       "    </tr>\n",
       "    <tr>\n",
       "      <th>1</th>\n",
       "      <td>Masculino</td>\n",
       "      <td>18</td>\n",
       "      <td>Hijo(a), hijastro(a)</td>\n",
       "      <td>Si</td>\n",
       "      <td>No</td>\n",
       "      <td>Si</td>\n",
       "      <td>Si</td>\n",
       "      <td>Ninguno de los anteriores</td>\n",
       "      <td>Esta soltero (a)</td>\n",
       "      <td>Si</td>\n",
       "      <td>...</td>\n",
       "      <td>Si</td>\n",
       "      <td>1.0</td>\n",
       "      <td>Si</td>\n",
       "      <td>No</td>\n",
       "      <td>Si</td>\n",
       "      <td>Si</td>\n",
       "      <td>5</td>\n",
       "      <td>RISALRALDA</td>\n",
       "      <td>Resto</td>\n",
       "      <td>0</td>\n",
       "    </tr>\n",
       "    <tr>\n",
       "      <th>2</th>\n",
       "      <td>Femenino</td>\n",
       "      <td>25</td>\n",
       "      <td>Hijo(a), hijastro(a)</td>\n",
       "      <td>No</td>\n",
       "      <td>Si</td>\n",
       "      <td>Si</td>\n",
       "      <td>Si</td>\n",
       "      <td>Ninguno de los anteriores</td>\n",
       "      <td>Esta soltero (a)</td>\n",
       "      <td>Si</td>\n",
       "      <td>...</td>\n",
       "      <td>Si</td>\n",
       "      <td>1.0</td>\n",
       "      <td>Si</td>\n",
       "      <td>No</td>\n",
       "      <td>Si</td>\n",
       "      <td>Si</td>\n",
       "      <td>2</td>\n",
       "      <td>RISALRALDA</td>\n",
       "      <td>Resto</td>\n",
       "      <td>0</td>\n",
       "    </tr>\n",
       "    <tr>\n",
       "      <th>3</th>\n",
       "      <td>Femenino</td>\n",
       "      <td>28</td>\n",
       "      <td>Pareja, esposo(a), conyugue, compañero(a)</td>\n",
       "      <td>No</td>\n",
       "      <td>No</td>\n",
       "      <td>No</td>\n",
       "      <td>No</td>\n",
       "      <td>Ninguno de los anteriores</td>\n",
       "      <td>No esta  casado (a)  y vive en pareja   hace d...</td>\n",
       "      <td>Si</td>\n",
       "      <td>...</td>\n",
       "      <td>Si</td>\n",
       "      <td>1.0</td>\n",
       "      <td>Si</td>\n",
       "      <td>No</td>\n",
       "      <td>Si</td>\n",
       "      <td>Si</td>\n",
       "      <td>3</td>\n",
       "      <td>RISALRALDA</td>\n",
       "      <td>Resto</td>\n",
       "      <td>0</td>\n",
       "    </tr>\n",
       "    <tr>\n",
       "      <th>4</th>\n",
       "      <td>Femenino</td>\n",
       "      <td>27</td>\n",
       "      <td>Hijo(a), hijastro(a)</td>\n",
       "      <td>Si</td>\n",
       "      <td>No</td>\n",
       "      <td>Si</td>\n",
       "      <td>Si</td>\n",
       "      <td>Ninguno de los anteriores</td>\n",
       "      <td>Esta soltero (a)</td>\n",
       "      <td>Si</td>\n",
       "      <td>...</td>\n",
       "      <td>Si</td>\n",
       "      <td>1.0</td>\n",
       "      <td>Si</td>\n",
       "      <td>No</td>\n",
       "      <td>Si</td>\n",
       "      <td>Si</td>\n",
       "      <td>6</td>\n",
       "      <td>RISALRALDA</td>\n",
       "      <td>Resto</td>\n",
       "      <td>0</td>\n",
       "    </tr>\n",
       "  </tbody>\n",
       "</table>\n",
       "<p>5 rows × 25 columns</p>\n",
       "</div>"
      ],
      "text/plain": [
       "  SEXO_PERSONA  EDAD                                 PARENTESCO  \\\n",
       "0    Masculino    27  Pareja, esposo(a), conyugue, compañero(a)   \n",
       "1    Masculino    18                       Hijo(a), hijastro(a)   \n",
       "2     Femenino    25                       Hijo(a), hijastro(a)   \n",
       "3     Femenino    28  Pareja, esposo(a), conyugue, compañero(a)   \n",
       "4     Femenino    27                       Hijo(a), hijastro(a)   \n",
       "\n",
       "  MADRE_RESIDE_HOGAR PADRE_RESIDE_HOGAR ES_CAMPESINO VIVE_COMUNIDAD_CAMPESINA  \\\n",
       "0                 No                 No           Si                       Si   \n",
       "1                 Si                 No           Si                       Si   \n",
       "2                 No                 Si           Si                       Si   \n",
       "3                 No                 No           No                       No   \n",
       "4                 Si                 No           Si                       Si   \n",
       "\n",
       "                       ETNIA  \\\n",
       "0  Ninguno de los anteriores   \n",
       "1  Ninguno de los anteriores   \n",
       "2  Ninguno de los anteriores   \n",
       "3  Ninguno de los anteriores   \n",
       "4  Ninguno de los anteriores   \n",
       "\n",
       "                                        ESTADO_CIVIL SABE_LEER_Y_ESCRIBIR  \\\n",
       "0  No esta  casado (a)  y vive en pareja   hace d...                   Si   \n",
       "1                                   Esta soltero (a)                   Si   \n",
       "2                                   Esta soltero (a)                   Si   \n",
       "3  No esta  casado (a)  y vive en pareja   hace d...                   Si   \n",
       "4                                   Esta soltero (a)                   Si   \n",
       "\n",
       "   ... ENERGIA_ELECTRICA ESTRATO_TARIFA_ENERGIA_ELECTRICA  GAS_NATURAL  \\\n",
       "0  ...                Si                              2.0           No   \n",
       "1  ...                Si                              1.0           Si   \n",
       "2  ...                Si                              1.0           Si   \n",
       "3  ...                Si                              1.0           Si   \n",
       "4  ...                Si                              1.0           Si   \n",
       "\n",
       "  ALCANTARILLADO RECOLECCION_DE_BASURAS ACUEDUCTO  NUM_PERSONAS_HOGAR  \\\n",
       "0             Si                     Si        Si                   3   \n",
       "1             No                     Si        Si                   5   \n",
       "2             No                     Si        Si                   2   \n",
       "3             No                     Si        Si                   3   \n",
       "4             No                     Si        Si                   6   \n",
       "\n",
       "           DPTO      ZONA Occupation_Status  \n",
       "0  CUNDINAMARCA  Cabecera                 0  \n",
       "1    RISALRALDA     Resto                 0  \n",
       "2    RISALRALDA     Resto                 0  \n",
       "3    RISALRALDA     Resto                 0  \n",
       "4    RISALRALDA     Resto                 0  \n",
       "\n",
       "[5 rows x 25 columns]"
      ]
     },
     "execution_count": 330,
     "metadata": {},
     "output_type": "execute_result"
    }
   ],
   "source": [
    "data_analisis.head()"
   ]
  },
  {
   "cell_type": "code",
   "execution_count": 331,
   "metadata": {},
   "outputs": [],
   "source": [
    "# Definimos una función que nos permita cálculal el information value para cada variable\n",
    "def information_value(feature, target, data):\n",
    "    \"\"\"information value\n",
    "\n",
    "    Args:\n",
    "        feature : variable a analizar del conjunto de features\n",
    "        target (_type_): variable de target\n",
    "        data (_type_): conjunto de datos\n",
    "    \"\"\"\n",
    "    contingency_table = pd.crosstab(data[feature], data[target])\n",
    "    event_total = contingency_table[0].sum()\n",
    "    non_event_total = contingency_table[1].sum()\n",
    "    \n",
    "    woe_values = {}\n",
    "    iv_values = {}\n",
    "    \n",
    "    for category in contingency_table.index:\n",
    "        event_count = contingency_table.loc[category, 1]\n",
    "        non_event_count = contingency_table.loc[category, 0]\n",
    "        \n",
    "        event_ratio = event_count / event_total\n",
    "        non_event_ratio = non_event_count / non_event_total\n",
    "        \n",
    "        if event_ratio == 0:\n",
    "            event_ratio += 0.0001  # Para evitar divisiones por cero, esto se le conoce cómo un método de censura del WOE ya que no es posible cálcular ln(0)\n",
    "        if non_event_ratio == 0:\n",
    "            non_event_ratio += 0.0001 \n",
    "        \n",
    "        woe = np.log(event_ratio / non_event_ratio)\n",
    "        iv = (event_ratio - non_event_ratio) * woe\n",
    "        \n",
    "        woe_values[category] = woe\n",
    "        iv_values[category] = iv\n",
    "\n",
    "# Sumar los valores IV para obtener el IV total\n",
    "    total_iv = sum(iv_values.values())\n",
    "    \n",
    "    return total_iv"
   ]
  },
  {
   "cell_type": "code",
   "execution_count": 332,
   "metadata": {},
   "outputs": [],
   "source": [
    "data_analisis = data_analisis.drop(columns=['MAYOR_CURSO_ALCANZADO'])"
   ]
  },
  {
   "cell_type": "code",
   "execution_count": 333,
   "metadata": {},
   "outputs": [
    {
     "name": "stdout",
     "output_type": "stream",
     "text": [
      "<class 'pandas.core.frame.DataFrame'>\n",
      "RangeIndex: 114113 entries, 0 to 114112\n",
      "Data columns (total 24 columns):\n",
      " #   Column                            Non-Null Count   Dtype  \n",
      "---  ------                            --------------   -----  \n",
      " 0   SEXO_PERSONA                      114113 non-null  object \n",
      " 1   EDAD                              114113 non-null  int64  \n",
      " 2   PARENTESCO                        114113 non-null  object \n",
      " 3   MADRE_RESIDE_HOGAR                114113 non-null  object \n",
      " 4   PADRE_RESIDE_HOGAR                114113 non-null  object \n",
      " 5   ES_CAMPESINO                      114113 non-null  object \n",
      " 6   VIVE_COMUNIDAD_CAMPESINA          114113 non-null  object \n",
      " 7   ETNIA                             114113 non-null  object \n",
      " 8   ESTADO_CIVIL                      114113 non-null  object \n",
      " 9   SABE_LEER_Y_ESCRIBIR              114113 non-null  object \n",
      " 10  SE_ENCUENTRA_ESTUDIANDO           114113 non-null  object \n",
      " 11  MAYOR_NIVEL_EDUCATIVO_ALCANZADO   114113 non-null  object \n",
      " 12  IDENTIDAD_GENERO                  114113 non-null  object \n",
      " 13  TIPO_DE_VIVIENDA                  114113 non-null  object \n",
      " 14  ENERGIA_ELECTRICA                 114113 non-null  object \n",
      " 15  ESTRATO_TARIFA_ENERGIA_ELECTRICA  113177 non-null  float64\n",
      " 16  GAS_NATURAL                       114113 non-null  object \n",
      " 17  ALCANTARILLADO                    114113 non-null  object \n",
      " 18  RECOLECCION_DE_BASURAS            114113 non-null  object \n",
      " 19  ACUEDUCTO                         114113 non-null  object \n",
      " 20  NUM_PERSONAS_HOGAR                114113 non-null  int64  \n",
      " 21  DPTO                              114113 non-null  object \n",
      " 22  ZONA                              114113 non-null  object \n",
      " 23  Occupation_Status                 114113 non-null  int32  \n",
      "dtypes: float64(1), int32(1), int64(2), object(20)\n",
      "memory usage: 20.5+ MB\n"
     ]
    }
   ],
   "source": [
    "data_analisis.info()"
   ]
  },
  {
   "cell_type": "markdown",
   "metadata": {},
   "source": [
    "# Exploración y Selección de Variables cualitativas\n",
    "- Information Value\n",
    "- Prueba Chi2 de Linealidad\n",
    "- Feature Importance"
   ]
  },
  {
   "cell_type": "code",
   "execution_count": 334,
   "metadata": {},
   "outputs": [
    {
     "data": {
      "text/plain": [
       "Index(['SEXO_PERSONA', 'PARENTESCO', 'MADRE_RESIDE_HOGAR',\n",
       "       'PADRE_RESIDE_HOGAR', 'ES_CAMPESINO', 'VIVE_COMUNIDAD_CAMPESINA',\n",
       "       'ETNIA', 'ESTADO_CIVIL', 'SABE_LEER_Y_ESCRIBIR',\n",
       "       'SE_ENCUENTRA_ESTUDIANDO', 'MAYOR_NIVEL_EDUCATIVO_ALCANZADO',\n",
       "       'IDENTIDAD_GENERO', 'TIPO_DE_VIVIENDA', 'ENERGIA_ELECTRICA',\n",
       "       'GAS_NATURAL', 'ALCANTARILLADO', 'RECOLECCION_DE_BASURAS', 'ACUEDUCTO',\n",
       "       'DPTO', 'ZONA', 'Occupation_Status'],\n",
       "      dtype='object')"
      ]
     },
     "execution_count": 334,
     "metadata": {},
     "output_type": "execute_result"
    }
   ],
   "source": [
    "categoric = data_analisis.select_dtypes(include=['category','object']).columns\n",
    "categorical = data_analisis[list(categoric) + ['Occupation_Status']]\n",
    "categorical.columns"
   ]
  },
  {
   "cell_type": "code",
   "execution_count": 335,
   "metadata": {},
   "outputs": [],
   "source": [
    "from data_module.visualizacion import grafico_frecuencia_acumulada"
   ]
  },
  {
   "cell_type": "code",
   "execution_count": 336,
   "metadata": {},
   "outputs": [
    {
     "data": {
      "image/png": "[encoded data removed]",
      "text/plain": [
       "<Figure size 1000x700 with 1 Axes>"
      ]
     },
     "metadata": {},
     "output_type": "display_data"
    }
   ],
   "source": [
    "grafico_frecuencia_acumulada(data=data_analisis, categorical='SEXO_PERSONA', target='Occupation_Status', \n",
    "                             title = 'Gráfico de Frecuencia Acumulada de la variable Sexo respecto a la ocupacion', colors=['#FF0000','#0000FF'])"
   ]
  },
  {
   "cell_type": "code",
   "execution_count": 337,
   "metadata": {},
   "outputs": [],
   "source": [
    "from data_module.pruebas import calculate_woe_iv"
   ]
  },
  {
   "cell_type": "code",
   "execution_count": 338,
   "metadata": {},
   "outputs": [
    {
     "name": "stdout",
     "output_type": "stream",
     "text": [
      "Resultados del Cálculo de IV\n"
     ]
    },
    {
     "data": {
      "text/html": [
       "<div>\n",
       "<style scoped>\n",
       "    .dataframe tbody tr th:only-of-type {\n",
       "        vertical-align: middle;\n",
       "    }\n",
       "\n",
       "    .dataframe tbody tr th {\n",
       "        vertical-align: top;\n",
       "    }\n",
       "\n",
       "    .dataframe thead th {\n",
       "        text-align: right;\n",
       "    }\n",
       "</style>\n",
       "<table border=\"1\" class=\"dataframe\">\n",
       "  <thead>\n",
       "    <tr style=\"text-align: right;\">\n",
       "      <th></th>\n",
       "      <th>IV</th>\n",
       "    </tr>\n",
       "  </thead>\n",
       "  <tbody>\n",
       "    <tr>\n",
       "      <th>ZONA</th>\n",
       "      <td>0.110287</td>\n",
       "    </tr>\n",
       "    <tr>\n",
       "      <th>VIVE_COMUNIDAD_CAMPESINA</th>\n",
       "      <td>0.089632</td>\n",
       "    </tr>\n",
       "    <tr>\n",
       "      <th>RECOLECCION_DE_BASURAS</th>\n",
       "      <td>0.077287</td>\n",
       "    </tr>\n",
       "    <tr>\n",
       "      <th>DPTO</th>\n",
       "      <td>0.072584</td>\n",
       "    </tr>\n",
       "    <tr>\n",
       "      <th>ES_CAMPESINO</th>\n",
       "      <td>0.048288</td>\n",
       "    </tr>\n",
       "    <tr>\n",
       "      <th>TIPO_DE_VIVIENDA</th>\n",
       "      <td>0.0363</td>\n",
       "    </tr>\n",
       "    <tr>\n",
       "      <th>ALCANTARILLADO</th>\n",
       "      <td>0.031306</td>\n",
       "    </tr>\n",
       "    <tr>\n",
       "      <th>ACUEDUCTO</th>\n",
       "      <td>0.019394</td>\n",
       "    </tr>\n",
       "    <tr>\n",
       "      <th>MAYOR_NIVEL_EDUCATIVO_ALCANZADO</th>\n",
       "      <td>0.016082</td>\n",
       "    </tr>\n",
       "    <tr>\n",
       "      <th>GAS_NATURAL</th>\n",
       "      <td>0.010213</td>\n",
       "    </tr>\n",
       "    <tr>\n",
       "      <th>ENERGIA_ELECTRICA</th>\n",
       "      <td>0.008723</td>\n",
       "    </tr>\n",
       "    <tr>\n",
       "      <th>ETNIA</th>\n",
       "      <td>0.008298</td>\n",
       "    </tr>\n",
       "    <tr>\n",
       "      <th>ESTADO_CIVIL</th>\n",
       "      <td>0.005</td>\n",
       "    </tr>\n",
       "    <tr>\n",
       "      <th>PARENTESCO</th>\n",
       "      <td>0.00298</td>\n",
       "    </tr>\n",
       "    <tr>\n",
       "      <th>SE_ENCUENTRA_ESTUDIANDO</th>\n",
       "      <td>0.002405</td>\n",
       "    </tr>\n",
       "    <tr>\n",
       "      <th>SABE_LEER_Y_ESCRIBIR</th>\n",
       "      <td>0.00109</td>\n",
       "    </tr>\n",
       "    <tr>\n",
       "      <th>MADRE_RESIDE_HOGAR</th>\n",
       "      <td>0.000746</td>\n",
       "    </tr>\n",
       "    <tr>\n",
       "      <th>IDENTIDAD_GENERO</th>\n",
       "      <td>0.000165</td>\n",
       "    </tr>\n",
       "    <tr>\n",
       "      <th>SEXO_PERSONA</th>\n",
       "      <td>0.000155</td>\n",
       "    </tr>\n",
       "    <tr>\n",
       "      <th>PADRE_RESIDE_HOGAR</th>\n",
       "      <td>0.000047</td>\n",
       "    </tr>\n",
       "  </tbody>\n",
       "</table>\n",
       "</div>"
      ],
      "text/plain": [
       "                                       IV\n",
       "ZONA                             0.110287\n",
       "VIVE_COMUNIDAD_CAMPESINA         0.089632\n",
       "RECOLECCION_DE_BASURAS           0.077287\n",
       "DPTO                             0.072584\n",
       "ES_CAMPESINO                     0.048288\n",
       "TIPO_DE_VIVIENDA                   0.0363\n",
       "ALCANTARILLADO                   0.031306\n",
       "ACUEDUCTO                        0.019394\n",
       "MAYOR_NIVEL_EDUCATIVO_ALCANZADO  0.016082\n",
       "GAS_NATURAL                      0.010213\n",
       "ENERGIA_ELECTRICA                0.008723\n",
       "ETNIA                            0.008298\n",
       "ESTADO_CIVIL                        0.005\n",
       "PARENTESCO                        0.00298\n",
       "SE_ENCUENTRA_ESTUDIANDO          0.002405\n",
       "SABE_LEER_Y_ESCRIBIR              0.00109\n",
       "MADRE_RESIDE_HOGAR               0.000746\n",
       "IDENTIDAD_GENERO                 0.000165\n",
       "SEXO_PERSONA                     0.000155\n",
       "PADRE_RESIDE_HOGAR               0.000047"
      ]
     },
     "metadata": {},
     "output_type": "display_data"
    },
    {
     "name": "stdout",
     "output_type": "stream",
     "text": [
      "Variables con IV mayor a 0.02, es decir, predictores aceptables\n"
     ]
    },
    {
     "data": {
      "text/html": [
       "<div>\n",
       "<style scoped>\n",
       "    .dataframe tbody tr th:only-of-type {\n",
       "        vertical-align: middle;\n",
       "    }\n",
       "\n",
       "    .dataframe tbody tr th {\n",
       "        vertical-align: top;\n",
       "    }\n",
       "\n",
       "    .dataframe thead th {\n",
       "        text-align: right;\n",
       "    }\n",
       "</style>\n",
       "<table border=\"1\" class=\"dataframe\">\n",
       "  <thead>\n",
       "    <tr style=\"text-align: right;\">\n",
       "      <th></th>\n",
       "      <th>IV</th>\n",
       "    </tr>\n",
       "  </thead>\n",
       "  <tbody>\n",
       "    <tr>\n",
       "      <th>ZONA</th>\n",
       "      <td>0.110287</td>\n",
       "    </tr>\n",
       "    <tr>\n",
       "      <th>VIVE_COMUNIDAD_CAMPESINA</th>\n",
       "      <td>0.089632</td>\n",
       "    </tr>\n",
       "    <tr>\n",
       "      <th>RECOLECCION_DE_BASURAS</th>\n",
       "      <td>0.077287</td>\n",
       "    </tr>\n",
       "    <tr>\n",
       "      <th>DPTO</th>\n",
       "      <td>0.072584</td>\n",
       "    </tr>\n",
       "    <tr>\n",
       "      <th>ES_CAMPESINO</th>\n",
       "      <td>0.048288</td>\n",
       "    </tr>\n",
       "    <tr>\n",
       "      <th>TIPO_DE_VIVIENDA</th>\n",
       "      <td>0.0363</td>\n",
       "    </tr>\n",
       "    <tr>\n",
       "      <th>ALCANTARILLADO</th>\n",
       "      <td>0.031306</td>\n",
       "    </tr>\n",
       "  </tbody>\n",
       "</table>\n",
       "</div>"
      ],
      "text/plain": [
       "                                IV\n",
       "ZONA                      0.110287\n",
       "VIVE_COMUNIDAD_CAMPESINA  0.089632\n",
       "RECOLECCION_DE_BASURAS    0.077287\n",
       "DPTO                      0.072584\n",
       "ES_CAMPESINO              0.048288\n",
       "TIPO_DE_VIVIENDA            0.0363\n",
       "ALCANTARILLADO            0.031306"
      ]
     },
     "metadata": {},
     "output_type": "display_data"
    }
   ],
   "source": [
    "iv_df = pd.DataFrame(columns=['IV'])\n",
    "\n",
    "# Calculate WOE and IV for each variable in the categorical dataframe\n",
    "for column in categorical.columns:\n",
    "    if column != 'Occupation_Status':\n",
    "        woe, iv = calculate_woe_iv(categorical, column, 'Occupation_Status')\n",
    "        sum_iv = sum([i for i in iv.values()])\n",
    "        iv_df.loc[column, 'IV'] = sum_iv\n",
    "\n",
    "# Display the resulting dataframe\n",
    "print(\"Resultados del Cálculo de IV\")\n",
    "display(iv_df.sort_values(by='IV', ascending=False))\n",
    "\n",
    "print(\"Variables con IV mayor a 0.02, es decir, predictores aceptables\")\n",
    "display(iv_df[iv_df['IV'] > 0.02].sort_values(by='IV', ascending=False))\n",
    "iv_columns = list(iv_df[iv_df['IV'] > 0.02].index)"
   ]
  },
  {
   "cell_type": "code",
   "execution_count": 339,
   "metadata": {},
   "outputs": [],
   "source": [
    "from data_module.pruebas import chi2_test_of_normality"
   ]
  },
  {
   "cell_type": "code",
   "execution_count": 340,
   "metadata": {},
   "outputs": [
    {
     "data": {
      "text/plain": [
       "0.05066454814297772"
      ]
     },
     "execution_count": 340,
     "metadata": {},
     "output_type": "execute_result"
    }
   ],
   "source": [
    "chi2_test_of_normality(categorical, var1='SEXO_PERSONA', var2='Occupation_Status')"
   ]
  },
  {
   "cell_type": "code",
   "execution_count": 341,
   "metadata": {},
   "outputs": [],
   "source": [
    "def calculate_p_values(columns, dataframe):\n",
    "    p_values = np.zeros((len(columns), len(columns)))\n",
    "    \n",
    "    for i in range(len(columns)):\n",
    "        for j in range(len(columns)):\n",
    "            if i != j:\n",
    "                var1 = columns[i]\n",
    "                var2 = columns[j]\n",
    "                p_value = chi2_test_of_normality(dataframe, var1, var2)\n",
    "                p_values[i, j] = p_value\n",
    "    \n",
    "    p_values_df = pd.DataFrame(p_values, index=columns, columns=columns)\n",
    "    return p_values_df\n",
    "\n",
    "p_values_matrix = calculate_p_values(iv_columns, data_analisis)\n"
   ]
  },
  {
   "cell_type": "code",
   "execution_count": 342,
   "metadata": {},
   "outputs": [
    {
     "data": {
      "text/html": [
       "<div>\n",
       "<style scoped>\n",
       "    .dataframe tbody tr th:only-of-type {\n",
       "        vertical-align: middle;\n",
       "    }\n",
       "\n",
       "    .dataframe tbody tr th {\n",
       "        vertical-align: top;\n",
       "    }\n",
       "\n",
       "    .dataframe thead th {\n",
       "        text-align: right;\n",
       "    }\n",
       "</style>\n",
       "<table border=\"1\" class=\"dataframe\">\n",
       "  <thead>\n",
       "    <tr style=\"text-align: right;\">\n",
       "      <th></th>\n",
       "      <th>ES_CAMPESINO</th>\n",
       "      <th>VIVE_COMUNIDAD_CAMPESINA</th>\n",
       "      <th>TIPO_DE_VIVIENDA</th>\n",
       "      <th>ALCANTARILLADO</th>\n",
       "      <th>RECOLECCION_DE_BASURAS</th>\n",
       "      <th>DPTO</th>\n",
       "      <th>ZONA</th>\n",
       "    </tr>\n",
       "  </thead>\n",
       "  <tbody>\n",
       "    <tr>\n",
       "      <th>ES_CAMPESINO</th>\n",
       "      <td>0.0</td>\n",
       "      <td>0.0</td>\n",
       "      <td>0.0</td>\n",
       "      <td>0.0</td>\n",
       "      <td>0.0</td>\n",
       "      <td>0.0</td>\n",
       "      <td>0.0</td>\n",
       "    </tr>\n",
       "    <tr>\n",
       "      <th>VIVE_COMUNIDAD_CAMPESINA</th>\n",
       "      <td>0.0</td>\n",
       "      <td>0.0</td>\n",
       "      <td>0.0</td>\n",
       "      <td>0.0</td>\n",
       "      <td>0.0</td>\n",
       "      <td>0.0</td>\n",
       "      <td>0.0</td>\n",
       "    </tr>\n",
       "    <tr>\n",
       "      <th>TIPO_DE_VIVIENDA</th>\n",
       "      <td>0.0</td>\n",
       "      <td>0.0</td>\n",
       "      <td>0.0</td>\n",
       "      <td>0.0</td>\n",
       "      <td>0.0</td>\n",
       "      <td>0.0</td>\n",
       "      <td>0.0</td>\n",
       "    </tr>\n",
       "    <tr>\n",
       "      <th>ALCANTARILLADO</th>\n",
       "      <td>0.0</td>\n",
       "      <td>0.0</td>\n",
       "      <td>0.0</td>\n",
       "      <td>0.0</td>\n",
       "      <td>0.0</td>\n",
       "      <td>0.0</td>\n",
       "      <td>0.0</td>\n",
       "    </tr>\n",
       "    <tr>\n",
       "      <th>RECOLECCION_DE_BASURAS</th>\n",
       "      <td>0.0</td>\n",
       "      <td>0.0</td>\n",
       "      <td>0.0</td>\n",
       "      <td>0.0</td>\n",
       "      <td>0.0</td>\n",
       "      <td>0.0</td>\n",
       "      <td>0.0</td>\n",
       "    </tr>\n",
       "    <tr>\n",
       "      <th>DPTO</th>\n",
       "      <td>0.0</td>\n",
       "      <td>0.0</td>\n",
       "      <td>0.0</td>\n",
       "      <td>0.0</td>\n",
       "      <td>0.0</td>\n",
       "      <td>0.0</td>\n",
       "      <td>0.0</td>\n",
       "    </tr>\n",
       "    <tr>\n",
       "      <th>ZONA</th>\n",
       "      <td>0.0</td>\n",
       "      <td>0.0</td>\n",
       "      <td>0.0</td>\n",
       "      <td>0.0</td>\n",
       "      <td>0.0</td>\n",
       "      <td>0.0</td>\n",
       "      <td>0.0</td>\n",
       "    </tr>\n",
       "  </tbody>\n",
       "</table>\n",
       "</div>"
      ],
      "text/plain": [
       "                          ES_CAMPESINO  VIVE_COMUNIDAD_CAMPESINA  \\\n",
       "ES_CAMPESINO                       0.0                       0.0   \n",
       "VIVE_COMUNIDAD_CAMPESINA           0.0                       0.0   \n",
       "TIPO_DE_VIVIENDA                   0.0                       0.0   \n",
       "ALCANTARILLADO                     0.0                       0.0   \n",
       "RECOLECCION_DE_BASURAS             0.0                       0.0   \n",
       "DPTO                               0.0                       0.0   \n",
       "ZONA                               0.0                       0.0   \n",
       "\n",
       "                          TIPO_DE_VIVIENDA  ALCANTARILLADO  \\\n",
       "ES_CAMPESINO                           0.0             0.0   \n",
       "VIVE_COMUNIDAD_CAMPESINA               0.0             0.0   \n",
       "TIPO_DE_VIVIENDA                       0.0             0.0   \n",
       "ALCANTARILLADO                         0.0             0.0   \n",
       "RECOLECCION_DE_BASURAS                 0.0             0.0   \n",
       "DPTO                                   0.0             0.0   \n",
       "ZONA                                   0.0             0.0   \n",
       "\n",
       "                          RECOLECCION_DE_BASURAS  DPTO  ZONA  \n",
       "ES_CAMPESINO                                 0.0   0.0   0.0  \n",
       "VIVE_COMUNIDAD_CAMPESINA                     0.0   0.0   0.0  \n",
       "TIPO_DE_VIVIENDA                             0.0   0.0   0.0  \n",
       "ALCANTARILLADO                               0.0   0.0   0.0  \n",
       "RECOLECCION_DE_BASURAS                       0.0   0.0   0.0  \n",
       "DPTO                                         0.0   0.0   0.0  \n",
       "ZONA                                         0.0   0.0   0.0  "
      ]
     },
     "execution_count": 342,
     "metadata": {},
     "output_type": "execute_result"
    }
   ],
   "source": [
    "p_values_matrix"
   ]
  },
  {
   "cell_type": "code",
   "execution_count": 343,
   "metadata": {},
   "outputs": [
    {
     "data": {
      "text/html": [
       "<div>\n",
       "<style scoped>\n",
       "    .dataframe tbody tr th:only-of-type {\n",
       "        vertical-align: middle;\n",
       "    }\n",
       "\n",
       "    .dataframe tbody tr th {\n",
       "        vertical-align: top;\n",
       "    }\n",
       "\n",
       "    .dataframe thead th {\n",
       "        text-align: right;\n",
       "    }\n",
       "</style>\n",
       "<table border=\"1\" class=\"dataframe\">\n",
       "  <thead>\n",
       "    <tr style=\"text-align: right;\">\n",
       "      <th>TIPO_DE_VIVIENDA</th>\n",
       "      <th>Apartamento</th>\n",
       "      <th>Casa</th>\n",
       "      <th>Cuarto (s) en inquilinato</th>\n",
       "      <th>Cuarto (s) en otro  tipo de estructura</th>\n",
       "      <th>Otra vivienda (carpa,  vagón, embarcación, cueva, refugio natural, etc.)</th>\n",
       "      <th>Vivienda indígena</th>\n",
       "    </tr>\n",
       "    <tr>\n",
       "      <th>ES_CAMPESINO</th>\n",
       "      <th></th>\n",
       "      <th></th>\n",
       "      <th></th>\n",
       "      <th></th>\n",
       "      <th></th>\n",
       "      <th></th>\n",
       "    </tr>\n",
       "  </thead>\n",
       "  <tbody>\n",
       "    <tr>\n",
       "      <th>No</th>\n",
       "      <td>42821</td>\n",
       "      <td>42603</td>\n",
       "      <td>1362</td>\n",
       "      <td>256</td>\n",
       "      <td>23</td>\n",
       "      <td>250</td>\n",
       "    </tr>\n",
       "    <tr>\n",
       "      <th>No informa</th>\n",
       "      <td>105</td>\n",
       "      <td>136</td>\n",
       "      <td>3</td>\n",
       "      <td>0</td>\n",
       "      <td>0</td>\n",
       "      <td>2</td>\n",
       "    </tr>\n",
       "    <tr>\n",
       "      <th>Si</th>\n",
       "      <td>7252</td>\n",
       "      <td>18120</td>\n",
       "      <td>519</td>\n",
       "      <td>139</td>\n",
       "      <td>11</td>\n",
       "      <td>511</td>\n",
       "    </tr>\n",
       "  </tbody>\n",
       "</table>\n",
       "</div>"
      ],
      "text/plain": [
       "TIPO_DE_VIVIENDA  Apartamento   Casa  Cuarto (s) en inquilinato  \\\n",
       "ES_CAMPESINO                                                      \n",
       "No                      42821  42603                       1362   \n",
       "No informa                105    136                          3   \n",
       "Si                       7252  18120                        519   \n",
       "\n",
       "TIPO_DE_VIVIENDA  Cuarto (s) en otro  tipo de estructura  \\\n",
       "ES_CAMPESINO                                               \n",
       "No                                                   256   \n",
       "No informa                                             0   \n",
       "Si                                                   139   \n",
       "\n",
       "TIPO_DE_VIVIENDA  Otra vivienda (carpa,  vagón, embarcación, cueva, refugio natural, etc.)  \\\n",
       "ES_CAMPESINO                                                                                 \n",
       "No                                                               23                          \n",
       "No informa                                                        0                          \n",
       "Si                                                               11                          \n",
       "\n",
       "TIPO_DE_VIVIENDA  Vivienda indígena  \n",
       "ES_CAMPESINO                         \n",
       "No                              250  \n",
       "No informa                        2  \n",
       "Si                              511  "
      ]
     },
     "metadata": {},
     "output_type": "display_data"
    },
    {
     "data": {
      "text/plain": [
       "Chi2ContingencyResult(statistic=26598.931643181135, pvalue=0.0, dof=2, expected_freq=array([[7.74803651e+04, 2.18292044e+02, 2.35613429e+04],\n",
       "       [9.83463492e+03, 2.77079561e+01, 2.99065712e+03]]))"
      ]
     },
     "metadata": {},
     "output_type": "display_data"
    }
   ],
   "source": [
    "display(pd.crosstab(data_analisis['ES_CAMPESINO'], data_analisis['TIPO_DE_VIVIENDA']))\n",
    "from scipy.stats import chi2_contingency\n",
    "\n",
    "display(chi2_contingency(pd.crosstab(data_analisis['ZONA'], data_analisis['ES_CAMPESINO'])))"
   ]
  },
  {
   "cell_type": "code",
   "execution_count": 344,
   "metadata": {},
   "outputs": [],
   "source": [
    "from sklearn.tree import DecisionTreeClassifier\n",
    "from sklearn.preprocessing import OneHotEncoder\n",
    "\n",
    "# Create the OneHotEncoder\n",
    "encoder = OneHotEncoder()\n",
    "categorical_encoded = encoder.fit_transform(categorical.drop(columns='Occupation_Status'))\n",
    "\n",
    "# Create the decision tree classifier\n",
    "tree = DecisionTreeClassifier(random_state=42)\n",
    "tree.fit(categorical_encoded, categorical['Occupation_Status'])\n",
    "\n",
    "# Calculate feature importance\n",
    "feature_importance = tree.feature_importances_"
   ]
  },
  {
   "cell_type": "code",
   "execution_count": 345,
   "metadata": {},
   "outputs": [
    {
     "data": {
      "text/html": [
       "<div>\n",
       "<style scoped>\n",
       "    .dataframe tbody tr th:only-of-type {\n",
       "        vertical-align: middle;\n",
       "    }\n",
       "\n",
       "    .dataframe tbody tr th {\n",
       "        vertical-align: top;\n",
       "    }\n",
       "\n",
       "    .dataframe thead th {\n",
       "        text-align: right;\n",
       "    }\n",
       "</style>\n",
       "<table border=\"1\" class=\"dataframe\">\n",
       "  <thead>\n",
       "    <tr style=\"text-align: right;\">\n",
       "      <th></th>\n",
       "      <th>Variable</th>\n",
       "      <th>Feature Importance</th>\n",
       "    </tr>\n",
       "  </thead>\n",
       "  <tbody>\n",
       "    <tr>\n",
       "      <th>111</th>\n",
       "      <td>ZONA_Resto</td>\n",
       "      <td>0.036641</td>\n",
       "    </tr>\n",
       "    <tr>\n",
       "      <th>48</th>\n",
       "      <td>MAYOR_NIVEL_EDUCATIVO_ALCANZADO_Media académic...</td>\n",
       "      <td>0.030923</td>\n",
       "    </tr>\n",
       "    <tr>\n",
       "      <th>19</th>\n",
       "      <td>PADRE_RESIDE_HOGAR_No</td>\n",
       "      <td>0.027760</td>\n",
       "    </tr>\n",
       "    <tr>\n",
       "      <th>5</th>\n",
       "      <td>PARENTESCO_Jefe del Hogar</td>\n",
       "      <td>0.026871</td>\n",
       "    </tr>\n",
       "    <tr>\n",
       "      <th>41</th>\n",
       "      <td>SE_ENCUENTRA_ESTUDIANDO_No</td>\n",
       "      <td>0.026736</td>\n",
       "    </tr>\n",
       "    <tr>\n",
       "      <th>44</th>\n",
       "      <td>MAYOR_NIVEL_EDUCATIVO_ALCANZADO_Básica secunda...</td>\n",
       "      <td>0.025308</td>\n",
       "    </tr>\n",
       "    <tr>\n",
       "      <th>16</th>\n",
       "      <td>MADRE_RESIDE_HOGAR_No</td>\n",
       "      <td>0.025025</td>\n",
       "    </tr>\n",
       "    <tr>\n",
       "      <th>35</th>\n",
       "      <td>ESTADO_CIVIL_Esta soltero (a)</td>\n",
       "      <td>0.024771</td>\n",
       "    </tr>\n",
       "    <tr>\n",
       "      <th>42</th>\n",
       "      <td>SE_ENCUENTRA_ESTUDIANDO_Si</td>\n",
       "      <td>0.024268</td>\n",
       "    </tr>\n",
       "    <tr>\n",
       "      <th>18</th>\n",
       "      <td>PADRE_RESIDE_HOGAR_Fallecido</td>\n",
       "      <td>0.023331</td>\n",
       "    </tr>\n",
       "  </tbody>\n",
       "</table>\n",
       "</div>"
      ],
      "text/plain": [
       "                                              Variable  Feature Importance\n",
       "111                                         ZONA_Resto            0.036641\n",
       "48   MAYOR_NIVEL_EDUCATIVO_ALCANZADO_Media académic...            0.030923\n",
       "19                               PADRE_RESIDE_HOGAR_No            0.027760\n",
       "5                            PARENTESCO_Jefe del Hogar            0.026871\n",
       "41                          SE_ENCUENTRA_ESTUDIANDO_No            0.026736\n",
       "44   MAYOR_NIVEL_EDUCATIVO_ALCANZADO_Básica secunda...            0.025308\n",
       "16                               MADRE_RESIDE_HOGAR_No            0.025025\n",
       "35                       ESTADO_CIVIL_Esta soltero (a)            0.024771\n",
       "42                          SE_ENCUENTRA_ESTUDIANDO_Si            0.024268\n",
       "18                        PADRE_RESIDE_HOGAR_Fallecido            0.023331"
      ]
     },
     "metadata": {},
     "output_type": "display_data"
    }
   ],
   "source": [
    "# Create a dataframe to store the feature importance\n",
    "feature_importance_df = pd.DataFrame({'Variable': encoder.get_feature_names_out(categorical.drop(columns='Occupation_Status').columns),\n",
    "                                      'Feature Importance': feature_importance})\n",
    "\n",
    "# Display the dataframe\n",
    "display(feature_importance_df.sort_values(by='Feature Importance', ascending=False)[:10])"
   ]
  },
  {
   "cell_type": "code",
   "execution_count": 346,
   "metadata": {},
   "outputs": [],
   "source": [
    "feature_importance_df['VAR'] = feature_importance_df['Variable'].apply(lambda x: '_'.join(x.split('_')[:-1]))"
   ]
  },
  {
   "cell_type": "code",
   "execution_count": 347,
   "metadata": {},
   "outputs": [],
   "source": [
    "result_fi = feature_importance_df.groupby('VAR')['Feature Importance'].mean().sort_values(ascending=False)\n"
   ]
  },
  {
   "cell_type": "code",
   "execution_count": 348,
   "metadata": {},
   "outputs": [
    {
     "data": {
      "text/plain": [
       "VAR\n",
       "SE_ENCUENTRA_ESTUDIANDO            0.025502\n",
       "PADRE_RESIDE_HOGAR                 0.023949\n",
       "MADRE_RESIDE_HOGAR                 0.020915\n",
       "SEXO_PERSONA                       0.018887\n",
       "ZONA                               0.018320\n",
       "ES_CAMPESINO                       0.015173\n",
       "ESTADO_CIVIL                       0.014639\n",
       "GAS_NATURAL                        0.012231\n",
       "MAYOR_NIVEL_EDUCATIVO_ALCANZADO    0.011096\n",
       "PARENTESCO                         0.010308\n",
       "IDENTIDAD_GENERO                   0.009429\n",
       "ACUEDUCTO                          0.007944\n",
       "ALCANTARILLADO                     0.007743\n",
       "ETNIA                              0.005802\n",
       "RECOLECCION_DE_BASURAS             0.005458\n",
       "TIPO_DE_VIVIENDA                   0.004408\n",
       "DPTO                               0.004141\n",
       "VIVE_COMUNIDAD_CAMPESINA           0.003084\n",
       "SABE_LEER_Y_ESCRIBIR               0.002057\n",
       "ENERGIA_ELECTRICA                  0.000773\n",
       "Name: Feature Importance, dtype: float64"
      ]
     },
     "execution_count": 348,
     "metadata": {},
     "output_type": "execute_result"
    }
   ],
   "source": [
    "result_fi"
   ]
  },
  {
   "cell_type": "code",
   "execution_count": 349,
   "metadata": {},
   "outputs": [],
   "source": [
    "fi_columns = list(result_fi[:7].index)"
   ]
  },
  {
   "cell_type": "code",
   "execution_count": 350,
   "metadata": {},
   "outputs": [],
   "source": [
    "categorical_columns = list(set(fi_columns).union(set(iv_columns)))"
   ]
  },
  {
   "cell_type": "markdown",
   "metadata": {},
   "source": [
    "# Exploración y Selección de variables cuantitativas"
   ]
  },
  {
   "cell_type": "code",
   "execution_count": 351,
   "metadata": {},
   "outputs": [
    {
     "data": {
      "text/html": [
       "<div>\n",
       "<style scoped>\n",
       "    .dataframe tbody tr th:only-of-type {\n",
       "        vertical-align: middle;\n",
       "    }\n",
       "\n",
       "    .dataframe tbody tr th {\n",
       "        vertical-align: top;\n",
       "    }\n",
       "\n",
       "    .dataframe thead th {\n",
       "        text-align: right;\n",
       "    }\n",
       "</style>\n",
       "<table border=\"1\" class=\"dataframe\">\n",
       "  <thead>\n",
       "    <tr style=\"text-align: right;\">\n",
       "      <th></th>\n",
       "      <th>EDAD</th>\n",
       "      <th>ESTRATO_TARIFA_ENERGIA_ELECTRICA</th>\n",
       "      <th>NUM_PERSONAS_HOGAR</th>\n",
       "      <th>Occupation_Status</th>\n",
       "    </tr>\n",
       "  </thead>\n",
       "  <tbody>\n",
       "    <tr>\n",
       "      <th>0</th>\n",
       "      <td>27</td>\n",
       "      <td>2.0</td>\n",
       "      <td>3</td>\n",
       "      <td>0</td>\n",
       "    </tr>\n",
       "    <tr>\n",
       "      <th>1</th>\n",
       "      <td>18</td>\n",
       "      <td>1.0</td>\n",
       "      <td>5</td>\n",
       "      <td>0</td>\n",
       "    </tr>\n",
       "    <tr>\n",
       "      <th>2</th>\n",
       "      <td>25</td>\n",
       "      <td>1.0</td>\n",
       "      <td>2</td>\n",
       "      <td>0</td>\n",
       "    </tr>\n",
       "    <tr>\n",
       "      <th>3</th>\n",
       "      <td>28</td>\n",
       "      <td>1.0</td>\n",
       "      <td>3</td>\n",
       "      <td>0</td>\n",
       "    </tr>\n",
       "    <tr>\n",
       "      <th>4</th>\n",
       "      <td>27</td>\n",
       "      <td>1.0</td>\n",
       "      <td>6</td>\n",
       "      <td>0</td>\n",
       "    </tr>\n",
       "  </tbody>\n",
       "</table>\n",
       "</div>"
      ],
      "text/plain": [
       "   EDAD  ESTRATO_TARIFA_ENERGIA_ELECTRICA  NUM_PERSONAS_HOGAR  \\\n",
       "0    27                               2.0                   3   \n",
       "1    18                               1.0                   5   \n",
       "2    25                               1.0                   2   \n",
       "3    28                               1.0                   3   \n",
       "4    27                               1.0                   6   \n",
       "\n",
       "   Occupation_Status  \n",
       "0                  0  \n",
       "1                  0  \n",
       "2                  0  \n",
       "3                  0  \n",
       "4                  0  "
      ]
     },
     "execution_count": 351,
     "metadata": {},
     "output_type": "execute_result"
    }
   ],
   "source": [
    "numeric = data_analisis.select_dtypes(include='number').columns\n",
    "numerical = data_analisis[list(numeric)]\n",
    "numerical.head()"
   ]
  },
  {
   "cell_type": "code",
   "execution_count": 352,
   "metadata": {},
   "outputs": [
    {
     "data": {
      "image/png": "[encoded data removed]",
      "text/plain": [
       "<Figure size 500x500 with 2 Axes>"
      ]
     },
     "metadata": {},
     "output_type": "display_data"
    }
   ],
   "source": [
    "# Calculate the correlation matrix\n",
    "correlation_matrix = numerical.corr()\n",
    "\n",
    "# Plot the correlation matrix as a heatmap\n",
    "plt.figure(figsize=(5, 5))\n",
    "sns.heatmap(correlation_matrix, annot=True, cmap='coolwarm', fmt=\".2f\", linewidths=0.5)\n",
    "plt.title('Correlation Matrix')\n",
    "plt.show()\n"
   ]
  },
  {
   "cell_type": "code",
   "execution_count": 353,
   "metadata": {},
   "outputs": [
    {
     "name": "stderr",
     "output_type": "stream",
     "text": [
      "c:\\Users\\andre\\OneDrive\\Documentos\\Encuesta Integrada de Hogares\\venv\\lib\\site-packages\\sklearn\\feature_selection\\_univariate_selection.py:113: RuntimeWarning: divide by zero encountered in divide\n",
      "  f = msb / msw\n"
     ]
    }
   ],
   "source": [
    "from sklearn.feature_selection import SelectKBest, f_classif\n",
    "\n",
    "seleccion = SelectKBest(f_classif, k='all').fit(numerical.fillna(0), categorical['Occupation_Status'])\n"
   ]
  },
  {
   "cell_type": "code",
   "execution_count": 354,
   "metadata": {},
   "outputs": [
    {
     "data": {
      "text/plain": [
       "array([  0.92995286, 123.06588641,  74.31774688,          inf])"
      ]
     },
     "metadata": {},
     "output_type": "display_data"
    },
    {
     "data": {
      "text/plain": [
       "array(['EDAD', 'ESTRATO_TARIFA_ENERGIA_ELECTRICA', 'NUM_PERSONAS_HOGAR',\n",
       "       'Occupation_Status'], dtype=object)"
      ]
     },
     "metadata": {},
     "output_type": "display_data"
    }
   ],
   "source": [
    "display(seleccion.scores_)\n",
    "display(seleccion.get_feature_names_out())\n"
   ]
  },
  {
   "cell_type": "code",
   "execution_count": 355,
   "metadata": {},
   "outputs": [],
   "source": [
    "numeric_columns = ['ESTRATO_TARIFA_ENERGIA_ELECTRICA', 'NUM_PERSONAS_HOGAR']\n",
    "target = 'Occupation_Status'"
   ]
  },
  {
   "cell_type": "code",
   "execution_count": 356,
   "metadata": {},
   "outputs": [],
   "source": [
    "final_columns = categorical_columns + numeric_columns"
   ]
  },
  {
   "cell_type": "code",
   "execution_count": 370,
   "metadata": {},
   "outputs": [],
   "source": [
    "X = data_analisis[final_columns]\n",
    "y = data_analisis[target]"
   ]
  },
  {
   "cell_type": "code",
   "execution_count": 371,
   "metadata": {},
   "outputs": [],
   "source": [
    "from sklearn.model_selection import train_test_split\n",
    "\n",
    "# Split the data into train and test sets\n",
    "X_train, X_test, y_train, y_test = train_test_split(X, y, random_state=42, test_size=0.2, stratify=y, shuffle=True)"
   ]
  },
  {
   "cell_type": "code",
   "execution_count": null,
   "metadata": {},
   "outputs": [],
   "source": []
  },
  {
   "cell_type": "code",
   "execution_count": 390,
   "metadata": {},
   "outputs": [],
   "source": [
    "from sklearn.pipeline import Pipeline, make_pipeline\n",
    "from sklearn.impute import SimpleImputer\n",
    "from sklearn.preprocessing import StandardScaler, OneHotEncoder\n",
    "\n",
    "numerical_transformer= Pipeline (steps=[\n",
    "('imputer', SimpleImputer(strategy='mean') ),\n",
    "('scaler', StandardScaler())\n",
    "])\n",
    "\n",
    "categorical_transformer_num= Pipeline(steps=[\n",
    "    ('imputer_num', SimpleImputer(strategy=\"most_frequent\")),\n",
    "    ('one_hot', OneHotEncoder(drop='first', handle_unknown='ignore'))\n",
    "])"
   ]
  },
  {
   "cell_type": "code",
   "execution_count": 391,
   "metadata": {},
   "outputs": [],
   "source": [
    "from sklearn.compose import ColumnTransformer\n",
    "\n",
    "preprocessor = ColumnTransformer(\n",
    "    transformers=[\n",
    "     ('numeric', numerical_transformer, numeric_columns), # Auí para cada uno definimos el nombre del proceso, el proceso y en donde vamos a aplicarlo (Columnas)\n",
    "     ('categ', categorical_transformer_num, categorical_columns),\n",
    "    ]\n",
    ")\n"
   ]
  },
  {
   "cell_type": "code",
   "execution_count": 392,
   "metadata": {},
   "outputs": [],
   "source": [
    "X_train_preprocessed = preprocessor.fit_transform(X_train)\n",
    "X_test_preprocessed = preprocessor.transform(X_test)\n",
    "\n",
    "from imblearn.over_sampling import SMOTE\n",
    "\n",
    "smote = SMOTE(random_state=42)\n",
    "\n",
    "X_train_preprocessed_smote, y_train_smote = smote.fit_resample(X_train_preprocessed, y_train)"
   ]
  },
  {
   "cell_type": "code",
   "execution_count": 393,
   "metadata": {},
   "outputs": [],
   "source": [
    "# Regresíon Logística\n",
    "from sklearn.linear_model import LogisticRegression\n",
    "\n",
    "logistic_model = LogisticRegression(random_state=42, max_iter=100)\n",
    "logistic_params = {\n",
    "    'C': [0.001, 0.01, 0.1, 1, 10, 100]\n",
    "}\n",
    "\n",
    "# Arbol de Decisión\n",
    "from sklearn.tree import DecisionTreeClassifier\n",
    "tree_model = DecisionTreeClassifier(random_state=42)\n",
    "tree_params = {\n",
    "    'max_depth': range(2, 15),\n",
    "    'min_samples_split': range(2, 10),\n",
    "    'criterion': ['gini', 'entropy']\n",
    "}\n",
    "\n",
    "# RandomForest\n",
    "from sklearn.ensemble import RandomForestClassifier\n",
    "forest_model = RandomForestClassifier(random_state=42)\n",
    "forest_params = {\n",
    "    'n_estimators': range(100,600,100),\n",
    "    'max_depth': range(2, 15),\n",
    "    'min_samples_split': range(2, 10),\n",
    "    'criterion': ['gini', 'entropy']\n",
    "}"
   ]
  },
  {
   "cell_type": "code",
   "execution_count": 394,
   "metadata": {},
   "outputs": [],
   "source": [
    "from sklearn.model_selection import GridSearchCV\n",
    "from sklearn.metrics import classification_report, confusion_matrix, accuracy_score, roc_auc_score, roc_curve, auc\n",
    "from sklearn.metrics import ConfusionMatrixDisplay"
   ]
  },
  {
   "cell_type": "code",
   "execution_count": 395,
   "metadata": {},
   "outputs": [
    {
     "name": "stdout",
     "output_type": "stream",
     "text": [
      "Fitting 5 folds for each of 6 candidates, totalling 30 fits\n"
     ]
    },
    {
     "name": "stderr",
     "output_type": "stream",
     "text": [
      "c:\\Users\\andre\\OneDrive\\Documentos\\Encuesta Integrada de Hogares\\venv\\lib\\site-packages\\sklearn\\linear_model\\_logistic.py:460: ConvergenceWarning: lbfgs failed to converge (status=1):\n",
      "STOP: TOTAL NO. of ITERATIONS REACHED LIMIT.\n",
      "\n",
      "Increase the number of iterations (max_iter) or scale the data as shown in:\n",
      "    https://scikit-learn.org/stable/modules/preprocessing.html\n",
      "Please also refer to the documentation for alternative solver options:\n",
      "    https://scikit-learn.org/stable/modules/linear_model.html#logistic-regression\n",
      "  n_iter_i = _check_optimize_result(\n"
     ]
    },
    {
     "data": {
      "text/plain": [
       "{'C': 1}"
      ]
     },
     "metadata": {},
     "output_type": "display_data"
    },
    {
     "data": {
      "text/plain": [
       "0.5784037936023146"
      ]
     },
     "metadata": {},
     "output_type": "display_data"
    },
    {
     "name": "stdout",
     "output_type": "stream",
     "text": [
      "              precision    recall  f1-score   support\n",
      "\n",
      "           0       0.38      0.60      0.46      7270\n",
      "           1       0.74      0.55      0.63     15553\n",
      "\n",
      "    accuracy                           0.56     22823\n",
      "   macro avg       0.56      0.57      0.55     22823\n",
      "weighted avg       0.63      0.56      0.58     22823\n",
      "\n"
     ]
    },
    {
     "data": {
      "image/png": "[encoded data removed]",
      "text/plain": [
       "<Figure size 500x500 with 1 Axes>"
      ]
     },
     "metadata": {},
     "output_type": "display_data"
    }
   ],
   "source": [
    "# Evaluación modelo logístico\n",
    "\n",
    "modelo = GridSearchCV(logistic_model, logistic_params, cv=5, scoring='accuracy', n_jobs=-1, verbose=1)\n",
    "modelo.fit(X_train_preprocessed_smote, y_train_smote)\n",
    "display(modelo.best_params_)\n",
    "display(modelo.best_score_)\n",
    "\n",
    "y_pred = modelo.predict(X_test_preprocessed)\n",
    "print(classification_report(y_test, y_pred))\n",
    "\n",
    "# Matriz de Confusión\n",
    "cm = confusion_matrix(y_test, y_pred)\n",
    "fig, ax = plt.subplots(figsize=(5, 5))\n",
    "ConfusionMatrixDisplay.from_predictions(y_test, y_pred, ax=ax, colorbar=False)\n",
    "plt.show()"
   ]
  },
  {
   "cell_type": "code",
   "execution_count": 396,
   "metadata": {},
   "outputs": [
    {
     "name": "stdout",
     "output_type": "stream",
     "text": [
      "Fitting 5 folds for each of 208 candidates, totalling 1040 fits\n"
     ]
    },
    {
     "data": {
      "text/plain": [
       "{'criterion': 'gini', 'max_depth': 14, 'min_samples_split': 8}"
      ]
     },
     "metadata": {},
     "output_type": "display_data"
    },
    {
     "data": {
      "text/plain": [
       "0.598995338370037"
      ]
     },
     "metadata": {},
     "output_type": "display_data"
    },
    {
     "name": "stdout",
     "output_type": "stream",
     "text": [
      "              precision    recall  f1-score   support\n",
      "\n",
      "           0       0.40      0.30      0.34      7270\n",
      "           1       0.71      0.79      0.74     15553\n",
      "\n",
      "    accuracy                           0.63     22823\n",
      "   macro avg       0.55      0.54      0.54     22823\n",
      "weighted avg       0.61      0.63      0.62     22823\n",
      "\n"
     ]
    },
    {
     "data": {
      "image/png": "[encoded data removed]",
      "text/plain": [
       "<Figure size 500x500 with 1 Axes>"
      ]
     },
     "metadata": {},
     "output_type": "display_data"
    }
   ],
   "source": [
    "# Evaluación modelo árbol de decisión\n",
    "\n",
    "modelo = GridSearchCV(tree_model, tree_params, cv=5, scoring='accuracy', verbose=1)\n",
    "modelo.fit(X_train_preprocessed_smote, y_train_smote)\n",
    "display(modelo.best_params_)\n",
    "display(modelo.best_score_)\n",
    "\n",
    "y_pred = modelo.predict(X_test_preprocessed)\n",
    "print(classification_report(y_test, y_pred))\n",
    "\n",
    "# Matriz de Confusión\n",
    "cm = confusion_matrix(y_test, y_pred)\n",
    "fig, ax = plt.subplots(figsize=(5, 5))\n",
    "ConfusionMatrixDisplay.from_predictions(y_test, y_pred, ax=ax, colorbar=False)\n",
    "plt.show()"
   ]
  },
  {
   "cell_type": "code",
   "execution_count": 397,
   "metadata": {},
   "outputs": [
    {
     "name": "stdout",
     "output_type": "stream",
     "text": [
      "Fitting 5 folds for each of 1040 candidates, totalling 5200 fits\n"
     ]
    }
   ],
   "source": [
    "# Evaluación modelo Random Forest\n",
    "\n",
    "modelo = GridSearchCV(forest_model, forest_params, cv=5, scoring='accuracy', verbose=1)\n",
    "modelo.fit(X_train_preprocessed_smote, y_train_smote)\n",
    "display(modelo.best_params_)\n",
    "display(modelo.best_score_)\n",
    "y_pred = modelo.predict(X_test_preprocessed)\n",
    "print(classification_report(y_test, y_pred))\n",
    "\n",
    "# Matriz de Confusión\n",
    "cm = confusion_matrix(y_test, y_pred)\n",
    "fig, ax = plt.subplots(figsize=(5, 5))\n",
    "ConfusionMatrixDisplay.from_predictions(y_test, y_pred, ax=ax, colorbar=False)\n",
    "plt.show()\n"
   ]
  },
  {
   "cell_type": "code",
   "execution_count": null,
   "metadata": {},
   "outputs": [],
   "source": []
  }
 ],
 "metadata": {
  "kernelspec": {
   "display_name": "venv",
   "language": "python",
   "name": "python3"
  },
  "language_info": {
   "codemirror_mode": {
    "name": "ipython",
    "version": 3
   },
   "file_extension": ".py",
   "mimetype": "text/x-python",
   "name": "python",
   "nbconvert_exporter": "python",
   "pygments_lexer": "ipython3",
   "version": "3.10.6"
  }
 },
 "nbformat": 4,
 "nbformat_minor": 2
}
